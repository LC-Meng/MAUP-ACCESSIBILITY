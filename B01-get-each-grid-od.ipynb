{
 "cells": [
  {
   "cell_type": "code",
   "execution_count": 1,
   "id": "18a23c6c-750d-4811-95bd-73ee859410b8",
   "metadata": {
    "tags": []
   },
   "outputs": [],
   "source": [
    "import warnings\n",
    "warnings.filterwarnings('ignore')\n",
    "\n",
    "import os\n",
    "import pandas as pd\n",
    "import numpy as np\n",
    "import matplotlib as mpl\n",
    "\n",
    "import matplotlib.pyplot as plt\n",
    "import platform\n",
    "if platform.system() == \"Windows\":\n",
    "    plt.rcParams['font.family'] = ['Times new roman',] # windows->Heiti TC\n",
    "else:\n",
    "    plt.rcParams['font.family'] = ['Heiti TC',] # windows->Heiti TC\n",
    "    \n",
    "plt.rcParams['axes.unicode_minus'] = False # windows->simhei\n",
    "plt.rcParams['figure.dpi'] = 200\n",
    "\n",
    "import geopandas as gpd\n",
    "import shapely\n",
    "from shapely.geometry import Point,Polygon,LineString,MultiLineString,MultiPoint,MultiPolygon\n",
    "\n",
    "import pickle\n",
    "from tqdm import tqdm\n",
    "from glob import glob\n",
    "import joblib\n",
    "\n",
    "import seaborn as sns"
   ]
  },
  {
   "cell_type": "code",
   "execution_count": 2,
   "id": "9224ea66-e4a5-4356-afde-012319448adc",
   "metadata": {},
   "outputs": [],
   "source": [
    "import os\n",
    "\n",
    "import platform\n",
    "if platform.system() == \"Windows\":\n",
    "    os.chdir(r'H:\\BaiduSyncdisk\\DR.MENG-Full\\Y2024-002-DT-NANJING-ACCESSIBILITY-MAUP')\n",
    "else:\n",
    "    os.chdir(r'/Volumes/SANDISK/DR.MENG')"
   ]
  },
  {
   "cell_type": "markdown",
   "id": "a50cd8f3-bbb4-439b-91de-fc56115f4ff9",
   "metadata": {},
   "source": [
    "# read data"
   ]
  },
  {
   "cell_type": "code",
   "execution_count": 3,
   "id": "76664ecd-0cb9-467a-9b21-1577c99ef62b",
   "metadata": {
    "tags": []
   },
   "outputs": [],
   "source": [
    "file_name = 'grid3000_od' # community_od grid1000_od grid500_od grid250_od, grid1500_od grid2000_od grid2500_od grid3000_od"
   ]
  },
  {
   "cell_type": "code",
   "execution_count": 4,
   "id": "6c5057b5-ced5-4db7-a2d9-968a321d5a3a",
   "metadata": {
    "tags": []
   },
   "outputs": [],
   "source": [
    "od_cycle = pd.read_csv(f'./od_crawled_data_unit/Nanjing_unit_{file_name}_cycle.csv') # 骑行 7km\n",
    "od_nav = pd.read_csv(f'./od_crawled_data_unit/Nanjing_unit_{file_name}_car.csv')     # 步行 5km\n",
    "od_pt = pd.read_csv(f'./od_crawled_data_unit/Nanjing_unit_{file_name}_bt.csv')       # 全\n",
    "od_walk = pd.read_csv(f'./od_crawled_data_unit/Nanjing_unit_{file_name}_walk.csv')"
   ]
  },
  {
   "cell_type": "code",
   "execution_count": 5,
   "id": "522a71f4-26f7-4e7e-9ea5-13df8fb955ed",
   "metadata": {
    "tags": []
   },
   "outputs": [
    {
     "data": {
      "text/html": [
       "<div>\n",
       "<style scoped>\n",
       "    .dataframe tbody tr th:only-of-type {\n",
       "        vertical-align: middle;\n",
       "    }\n",
       "\n",
       "    .dataframe tbody tr th {\n",
       "        vertical-align: top;\n",
       "    }\n",
       "\n",
       "    .dataframe thead th {\n",
       "        text-align: right;\n",
       "    }\n",
       "</style>\n",
       "<table border=\"1\" class=\"dataframe\">\n",
       "  <thead>\n",
       "    <tr style=\"text-align: right;\">\n",
       "      <th></th>\n",
       "      <th>distance</th>\n",
       "      <th>duration</th>\n",
       "      <th>od_id</th>\n",
       "    </tr>\n",
       "  </thead>\n",
       "  <tbody>\n",
       "    <tr>\n",
       "      <th>0</th>\n",
       "      <td>31529</td>\n",
       "      <td>9554</td>\n",
       "      <td>od_26145</td>\n",
       "    </tr>\n",
       "  </tbody>\n",
       "</table>\n",
       "</div>"
      ],
      "text/plain": [
       "   distance  duration     od_id\n",
       "0     31529      9554  od_26145"
      ]
     },
     "execution_count": 5,
     "metadata": {},
     "output_type": "execute_result"
    }
   ],
   "source": [
    "od_cycle.head(1) # community_od grid1000_od"
   ]
  },
  {
   "cell_type": "code",
   "execution_count": 6,
   "id": "8ae7d4ac-e4ef-4c7a-b3fb-f341fe602eda",
   "metadata": {
    "tags": []
   },
   "outputs": [
    {
     "data": {
      "text/html": [
       "<div>\n",
       "<style scoped>\n",
       "    .dataframe tbody tr th:only-of-type {\n",
       "        vertical-align: middle;\n",
       "    }\n",
       "\n",
       "    .dataframe tbody tr th {\n",
       "        vertical-align: top;\n",
       "    }\n",
       "\n",
       "    .dataframe thead th {\n",
       "        text-align: right;\n",
       "    }\n",
       "</style>\n",
       "<table border=\"1\" class=\"dataframe\">\n",
       "  <thead>\n",
       "    <tr style=\"text-align: right;\">\n",
       "      <th></th>\n",
       "      <th>duration</th>\n",
       "      <th>distance</th>\n",
       "      <th>od_id</th>\n",
       "    </tr>\n",
       "  </thead>\n",
       "  <tbody>\n",
       "    <tr>\n",
       "      <th>0</th>\n",
       "      <td>384.1</td>\n",
       "      <td>6326.3</td>\n",
       "      <td>od_18693</td>\n",
       "    </tr>\n",
       "  </tbody>\n",
       "</table>\n",
       "</div>"
      ],
      "text/plain": [
       "   duration  distance     od_id\n",
       "0     384.1    6326.3  od_18693"
      ]
     },
     "execution_count": 6,
     "metadata": {},
     "output_type": "execute_result"
    }
   ],
   "source": [
    "od_nav.head(1)"
   ]
  },
  {
   "cell_type": "code",
   "execution_count": 7,
   "id": "5dd01301-5f37-4b32-a3fd-356385bbc6d1",
   "metadata": {
    "tags": []
   },
   "outputs": [
    {
     "data": {
      "text/html": [
       "<div>\n",
       "<style scoped>\n",
       "    .dataframe tbody tr th:only-of-type {\n",
       "        vertical-align: middle;\n",
       "    }\n",
       "\n",
       "    .dataframe tbody tr th {\n",
       "        vertical-align: top;\n",
       "    }\n",
       "\n",
       "    .dataframe thead th {\n",
       "        text-align: right;\n",
       "    }\n",
       "</style>\n",
       "<table border=\"1\" class=\"dataframe\">\n",
       "  <thead>\n",
       "    <tr style=\"text-align: right;\">\n",
       "      <th></th>\n",
       "      <th>all_distance</th>\n",
       "      <th>all_time</th>\n",
       "      <th>all_price</th>\n",
       "      <th>all_walk_distance</th>\n",
       "      <th>all_walk_time</th>\n",
       "      <th>access_walk_distance</th>\n",
       "      <th>egress_walk_distance</th>\n",
       "      <th>number_of_boardings</th>\n",
       "      <th>od_id</th>\n",
       "      <th>pt</th>\n",
       "    </tr>\n",
       "  </thead>\n",
       "  <tbody>\n",
       "    <tr>\n",
       "      <th>0</th>\n",
       "      <td>21983</td>\n",
       "      <td>4194</td>\n",
       "      <td>7.0</td>\n",
       "      <td>1794.0</td>\n",
       "      <td>1493.0</td>\n",
       "      <td>1475.0</td>\n",
       "      <td>156.0</td>\n",
       "      <td>2.0</td>\n",
       "      <td>od_10820</td>\n",
       "      <td>1</td>\n",
       "    </tr>\n",
       "  </tbody>\n",
       "</table>\n",
       "</div>"
      ],
      "text/plain": [
       "   all_distance  all_time  all_price  all_walk_distance  all_walk_time  \\\n",
       "0         21983      4194        7.0             1794.0         1493.0   \n",
       "\n",
       "   access_walk_distance  egress_walk_distance  number_of_boardings     od_id  \\\n",
       "0                1475.0                 156.0                  2.0  od_10820   \n",
       "\n",
       "   pt  \n",
       "0   1  "
      ]
     },
     "execution_count": 7,
     "metadata": {},
     "output_type": "execute_result"
    }
   ],
   "source": [
    "od_pt.head(1)"
   ]
  },
  {
   "cell_type": "code",
   "execution_count": 8,
   "id": "739ef736-5bae-4840-b98d-51c7edc2ee49",
   "metadata": {
    "tags": []
   },
   "outputs": [
    {
     "data": {
      "text/html": [
       "<div>\n",
       "<style scoped>\n",
       "    .dataframe tbody tr th:only-of-type {\n",
       "        vertical-align: middle;\n",
       "    }\n",
       "\n",
       "    .dataframe tbody tr th {\n",
       "        vertical-align: top;\n",
       "    }\n",
       "\n",
       "    .dataframe thead th {\n",
       "        text-align: right;\n",
       "    }\n",
       "</style>\n",
       "<table border=\"1\" class=\"dataframe\">\n",
       "  <thead>\n",
       "    <tr style=\"text-align: right;\">\n",
       "      <th></th>\n",
       "      <th>all_distance</th>\n",
       "      <th>all_time</th>\n",
       "      <th>od_id</th>\n",
       "    </tr>\n",
       "  </thead>\n",
       "  <tbody>\n",
       "    <tr>\n",
       "      <th>0</th>\n",
       "      <td>21057</td>\n",
       "      <td>18048</td>\n",
       "      <td>od_10820</td>\n",
       "    </tr>\n",
       "  </tbody>\n",
       "</table>\n",
       "</div>"
      ],
      "text/plain": [
       "   all_distance  all_time     od_id\n",
       "0         21057     18048  od_10820"
      ]
     },
     "execution_count": 8,
     "metadata": {},
     "output_type": "execute_result"
    }
   ],
   "source": [
    "od_walk.head(1)"
   ]
  },
  {
   "cell_type": "code",
   "execution_count": 9,
   "id": "5cc85103-2529-4955-b288-c38480957232",
   "metadata": {},
   "outputs": [],
   "source": [
    "od_walk.rename(columns={'all_distance':'distance', 'all_time':'duration'}, inplace=True)\n",
    "od_pt.rename(columns={'all_distance':'distance', 'all_time':'duration'}, inplace=True)"
   ]
  },
  {
   "cell_type": "code",
   "execution_count": 10,
   "id": "b1ef4501-61f5-447a-92e3-a7753a02869a",
   "metadata": {
    "tags": []
   },
   "outputs": [
    {
     "data": {
      "text/html": [
       "<div>\n",
       "<style scoped>\n",
       "    .dataframe tbody tr th:only-of-type {\n",
       "        vertical-align: middle;\n",
       "    }\n",
       "\n",
       "    .dataframe tbody tr th {\n",
       "        vertical-align: top;\n",
       "    }\n",
       "\n",
       "    .dataframe thead th {\n",
       "        text-align: right;\n",
       "    }\n",
       "</style>\n",
       "<table border=\"1\" class=\"dataframe\">\n",
       "  <thead>\n",
       "    <tr style=\"text-align: right;\">\n",
       "      <th></th>\n",
       "      <th>distance</th>\n",
       "      <th>duration</th>\n",
       "      <th>od_id</th>\n",
       "    </tr>\n",
       "  </thead>\n",
       "  <tbody>\n",
       "    <tr>\n",
       "      <th>0</th>\n",
       "      <td>21057</td>\n",
       "      <td>18048</td>\n",
       "      <td>od_10820</td>\n",
       "    </tr>\n",
       "  </tbody>\n",
       "</table>\n",
       "</div>"
      ],
      "text/plain": [
       "   distance  duration     od_id\n",
       "0     21057     18048  od_10820"
      ]
     },
     "execution_count": 10,
     "metadata": {},
     "output_type": "execute_result"
    }
   ],
   "source": [
    "od_walk.head(1)"
   ]
  },
  {
   "cell_type": "code",
   "execution_count": 11,
   "id": "b91316c9-03aa-40f6-a78e-f6bafe8e1bde",
   "metadata": {},
   "outputs": [
    {
     "data": {
      "text/html": [
       "<div>\n",
       "<style scoped>\n",
       "    .dataframe tbody tr th:only-of-type {\n",
       "        vertical-align: middle;\n",
       "    }\n",
       "\n",
       "    .dataframe tbody tr th {\n",
       "        vertical-align: top;\n",
       "    }\n",
       "\n",
       "    .dataframe thead th {\n",
       "        text-align: right;\n",
       "    }\n",
       "</style>\n",
       "<table border=\"1\" class=\"dataframe\">\n",
       "  <thead>\n",
       "    <tr style=\"text-align: right;\">\n",
       "      <th></th>\n",
       "      <th>distance</th>\n",
       "      <th>duration</th>\n",
       "      <th>all_price</th>\n",
       "      <th>all_walk_distance</th>\n",
       "      <th>all_walk_time</th>\n",
       "      <th>access_walk_distance</th>\n",
       "      <th>egress_walk_distance</th>\n",
       "      <th>number_of_boardings</th>\n",
       "      <th>od_id</th>\n",
       "      <th>pt</th>\n",
       "    </tr>\n",
       "  </thead>\n",
       "  <tbody>\n",
       "    <tr>\n",
       "      <th>0</th>\n",
       "      <td>21983</td>\n",
       "      <td>4194</td>\n",
       "      <td>7.0</td>\n",
       "      <td>1794.0</td>\n",
       "      <td>1493.0</td>\n",
       "      <td>1475.0</td>\n",
       "      <td>156.0</td>\n",
       "      <td>2.0</td>\n",
       "      <td>od_10820</td>\n",
       "      <td>1</td>\n",
       "    </tr>\n",
       "  </tbody>\n",
       "</table>\n",
       "</div>"
      ],
      "text/plain": [
       "   distance  duration  all_price  all_walk_distance  all_walk_time  \\\n",
       "0     21983      4194        7.0             1794.0         1493.0   \n",
       "\n",
       "   access_walk_distance  egress_walk_distance  number_of_boardings     od_id  \\\n",
       "0                1475.0                 156.0                  2.0  od_10820   \n",
       "\n",
       "   pt  \n",
       "0   1  "
      ]
     },
     "execution_count": 11,
     "metadata": {},
     "output_type": "execute_result"
    }
   ],
   "source": [
    "od_pt.head(1)"
   ]
  },
  {
   "cell_type": "markdown",
   "id": "553e37b1-d2c0-4881-9157-91b276b4d469",
   "metadata": {},
   "source": [
    "# select data"
   ]
  },
  {
   "cell_type": "code",
   "execution_count": 12,
   "id": "a8fe9257-64c6-4342-9f5a-bfe6ff14efbe",
   "metadata": {
    "tags": []
   },
   "outputs": [],
   "source": [
    "od_pt = od_pt[['od_id','distance','duration']]\n",
    "od_walk = od_walk[['od_id','distance','duration']]\n",
    "od_nav = od_nav[['od_id','distance','duration']]\n",
    "od_cycle = od_cycle[['od_id','distance','duration']]"
   ]
  },
  {
   "cell_type": "code",
   "execution_count": 13,
   "id": "c8832178-02df-4cc6-b4b2-ed33ebfd1792",
   "metadata": {
    "tags": []
   },
   "outputs": [
    {
     "data": {
      "text/html": [
       "<div>\n",
       "<style scoped>\n",
       "    .dataframe tbody tr th:only-of-type {\n",
       "        vertical-align: middle;\n",
       "    }\n",
       "\n",
       "    .dataframe tbody tr th {\n",
       "        vertical-align: top;\n",
       "    }\n",
       "\n",
       "    .dataframe thead th {\n",
       "        text-align: right;\n",
       "    }\n",
       "</style>\n",
       "<table border=\"1\" class=\"dataframe\">\n",
       "  <thead>\n",
       "    <tr style=\"text-align: right;\">\n",
       "      <th></th>\n",
       "      <th>od_id</th>\n",
       "      <th>distance</th>\n",
       "      <th>duration</th>\n",
       "    </tr>\n",
       "  </thead>\n",
       "  <tbody>\n",
       "    <tr>\n",
       "      <th>0</th>\n",
       "      <td>od_10820</td>\n",
       "      <td>21983</td>\n",
       "      <td>4194</td>\n",
       "    </tr>\n",
       "  </tbody>\n",
       "</table>\n",
       "</div>"
      ],
      "text/plain": [
       "      od_id  distance  duration\n",
       "0  od_10820     21983      4194"
      ]
     },
     "execution_count": 13,
     "metadata": {},
     "output_type": "execute_result"
    }
   ],
   "source": [
    "od_pt.head(1)"
   ]
  },
  {
   "cell_type": "code",
   "execution_count": 14,
   "id": "18905162-3fe3-4b0e-b3d1-baa8097a3d51",
   "metadata": {
    "tags": []
   },
   "outputs": [
    {
     "data": {
      "text/html": [
       "<div>\n",
       "<style scoped>\n",
       "    .dataframe tbody tr th:only-of-type {\n",
       "        vertical-align: middle;\n",
       "    }\n",
       "\n",
       "    .dataframe tbody tr th {\n",
       "        vertical-align: top;\n",
       "    }\n",
       "\n",
       "    .dataframe thead th {\n",
       "        text-align: right;\n",
       "    }\n",
       "</style>\n",
       "<table border=\"1\" class=\"dataframe\">\n",
       "  <thead>\n",
       "    <tr style=\"text-align: right;\">\n",
       "      <th></th>\n",
       "      <th>od_id</th>\n",
       "      <th>distance</th>\n",
       "      <th>duration</th>\n",
       "    </tr>\n",
       "  </thead>\n",
       "  <tbody>\n",
       "    <tr>\n",
       "      <th>0</th>\n",
       "      <td>od_18693</td>\n",
       "      <td>6326.3</td>\n",
       "      <td>384.1</td>\n",
       "    </tr>\n",
       "  </tbody>\n",
       "</table>\n",
       "</div>"
      ],
      "text/plain": [
       "      od_id  distance  duration\n",
       "0  od_18693    6326.3     384.1"
      ]
     },
     "execution_count": 14,
     "metadata": {},
     "output_type": "execute_result"
    }
   ],
   "source": [
    "od_nav.head(1)"
   ]
  },
  {
   "cell_type": "code",
   "execution_count": 15,
   "id": "b89f09ad-f848-496b-b270-a1d17304b82a",
   "metadata": {
    "tags": []
   },
   "outputs": [
    {
     "data": {
      "text/html": [
       "<div>\n",
       "<style scoped>\n",
       "    .dataframe tbody tr th:only-of-type {\n",
       "        vertical-align: middle;\n",
       "    }\n",
       "\n",
       "    .dataframe tbody tr th {\n",
       "        vertical-align: top;\n",
       "    }\n",
       "\n",
       "    .dataframe thead th {\n",
       "        text-align: right;\n",
       "    }\n",
       "</style>\n",
       "<table border=\"1\" class=\"dataframe\">\n",
       "  <thead>\n",
       "    <tr style=\"text-align: right;\">\n",
       "      <th></th>\n",
       "      <th>od_id</th>\n",
       "      <th>distance</th>\n",
       "      <th>duration</th>\n",
       "    </tr>\n",
       "  </thead>\n",
       "  <tbody>\n",
       "    <tr>\n",
       "      <th>0</th>\n",
       "      <td>od_10820</td>\n",
       "      <td>21983</td>\n",
       "      <td>4194</td>\n",
       "    </tr>\n",
       "  </tbody>\n",
       "</table>\n",
       "</div>"
      ],
      "text/plain": [
       "      od_id  distance  duration\n",
       "0  od_10820     21983      4194"
      ]
     },
     "execution_count": 15,
     "metadata": {},
     "output_type": "execute_result"
    }
   ],
   "source": [
    "od_pt.head(1)"
   ]
  },
  {
   "cell_type": "code",
   "execution_count": 16,
   "id": "fdeb3ed1-de33-4f0b-bbab-5a7633c7e798",
   "metadata": {
    "tags": []
   },
   "outputs": [
    {
     "data": {
      "text/html": [
       "<div>\n",
       "<style scoped>\n",
       "    .dataframe tbody tr th:only-of-type {\n",
       "        vertical-align: middle;\n",
       "    }\n",
       "\n",
       "    .dataframe tbody tr th {\n",
       "        vertical-align: top;\n",
       "    }\n",
       "\n",
       "    .dataframe thead th {\n",
       "        text-align: right;\n",
       "    }\n",
       "</style>\n",
       "<table border=\"1\" class=\"dataframe\">\n",
       "  <thead>\n",
       "    <tr style=\"text-align: right;\">\n",
       "      <th></th>\n",
       "      <th>od_id</th>\n",
       "      <th>distance</th>\n",
       "      <th>duration</th>\n",
       "    </tr>\n",
       "  </thead>\n",
       "  <tbody>\n",
       "    <tr>\n",
       "      <th>0</th>\n",
       "      <td>od_10820</td>\n",
       "      <td>21057</td>\n",
       "      <td>18048</td>\n",
       "    </tr>\n",
       "  </tbody>\n",
       "</table>\n",
       "</div>"
      ],
      "text/plain": [
       "      od_id  distance  duration\n",
       "0  od_10820     21057     18048"
      ]
     },
     "execution_count": 16,
     "metadata": {},
     "output_type": "execute_result"
    }
   ],
   "source": [
    "od_walk.head(1)"
   ]
  },
  {
   "cell_type": "code",
   "execution_count": 17,
   "id": "5b442adf-e2cb-4a5f-a070-3c244a78212b",
   "metadata": {
    "tags": []
   },
   "outputs": [
    {
     "data": {
      "text/plain": [
       "(51726, 51726, 51557, 51726)"
      ]
     },
     "execution_count": 17,
     "metadata": {},
     "output_type": "execute_result"
    }
   ],
   "source": [
    "len(od_cycle),len(od_nav),len(od_pt),len(od_walk)"
   ]
  },
  {
   "cell_type": "code",
   "execution_count": 18,
   "id": "2ba268f0-57ff-424c-a508-f44ab7323d5e",
   "metadata": {
    "tags": []
   },
   "outputs": [],
   "source": [
    "dt_full_od = pd.read_json(f'./od_request_data_unit/{file_name}.json')"
   ]
  },
  {
   "cell_type": "code",
   "execution_count": 19,
   "id": "abd73c77-71ac-4a24-bb62-b43b6275ac56",
   "metadata": {
    "tags": []
   },
   "outputs": [
    {
     "data": {
      "text/plain": [
       "51726"
      ]
     },
     "execution_count": 19,
     "metadata": {},
     "output_type": "execute_result"
    }
   ],
   "source": [
    "len(dt_full_od)"
   ]
  },
  {
   "cell_type": "code",
   "execution_count": 20,
   "id": "20c33576-ad3a-46b8-86d9-3e65db1572db",
   "metadata": {
    "tags": []
   },
   "outputs": [
    {
     "data": {
      "text/html": [
       "<div>\n",
       "<style scoped>\n",
       "    .dataframe tbody tr th:only-of-type {\n",
       "        vertical-align: middle;\n",
       "    }\n",
       "\n",
       "    .dataframe tbody tr th {\n",
       "        vertical-align: top;\n",
       "    }\n",
       "\n",
       "    .dataframe thead th {\n",
       "        text-align: right;\n",
       "    }\n",
       "</style>\n",
       "<table border=\"1\" class=\"dataframe\">\n",
       "  <thead>\n",
       "    <tr style=\"text-align: right;\">\n",
       "      <th></th>\n",
       "      <th>name</th>\n",
       "      <th>park_id</th>\n",
       "      <th>entrance</th>\n",
       "      <th>net_id</th>\n",
       "      <th>lng</th>\n",
       "      <th>lat</th>\n",
       "      <th>distance</th>\n",
       "      <th>od_id</th>\n",
       "    </tr>\n",
       "  </thead>\n",
       "  <tbody>\n",
       "    <tr>\n",
       "      <th>0</th>\n",
       "      <td>宝船厂遗址公园</td>\n",
       "      <td>p_0</td>\n",
       "      <td>[118.7309901401, 32.0639718849]</td>\n",
       "      <td>404</td>\n",
       "      <td>118.778847</td>\n",
       "      <td>31.864796</td>\n",
       "      <td>22602.770662</td>\n",
       "      <td>od_0</td>\n",
       "    </tr>\n",
       "  </tbody>\n",
       "</table>\n",
       "</div>"
      ],
      "text/plain": [
       "      name park_id                         entrance  net_id         lng  \\\n",
       "0  宝船厂遗址公园     p_0  [118.7309901401, 32.0639718849]     404  118.778847   \n",
       "\n",
       "         lat      distance od_id  \n",
       "0  31.864796  22602.770662  od_0  "
      ]
     },
     "execution_count": 20,
     "metadata": {},
     "output_type": "execute_result"
    }
   ],
   "source": [
    "dt_full_od.head(1)"
   ]
  },
  {
   "cell_type": "code",
   "execution_count": 21,
   "id": "70de7524-cffa-4ac3-a7c0-01f719985044",
   "metadata": {
    "tags": []
   },
   "outputs": [],
   "source": [
    "dt_full_od['x_parks'] = dt_full_od['entrance'].str.get(0)\n",
    "dt_full_od['y_parks'] = dt_full_od['entrance'].str.get(1)"
   ]
  },
  {
   "cell_type": "code",
   "execution_count": 22,
   "id": "4e1f93c4-d6ea-4f56-8e9c-7d5755c4beed",
   "metadata": {
    "tags": []
   },
   "outputs": [],
   "source": [
    "dt_full_od = dt_full_od.drop(['entrance','distance'], axis=1)"
   ]
  },
  {
   "cell_type": "code",
   "execution_count": 23,
   "id": "ea7ad8ea-4b49-433c-9359-8aa1ff6a717b",
   "metadata": {
    "tags": []
   },
   "outputs": [
    {
     "data": {
      "text/html": [
       "<div>\n",
       "<style scoped>\n",
       "    .dataframe tbody tr th:only-of-type {\n",
       "        vertical-align: middle;\n",
       "    }\n",
       "\n",
       "    .dataframe tbody tr th {\n",
       "        vertical-align: top;\n",
       "    }\n",
       "\n",
       "    .dataframe thead th {\n",
       "        text-align: right;\n",
       "    }\n",
       "</style>\n",
       "<table border=\"1\" class=\"dataframe\">\n",
       "  <thead>\n",
       "    <tr style=\"text-align: right;\">\n",
       "      <th></th>\n",
       "      <th>name</th>\n",
       "      <th>park_id</th>\n",
       "      <th>net_id</th>\n",
       "      <th>lng</th>\n",
       "      <th>lat</th>\n",
       "      <th>od_id</th>\n",
       "      <th>x_parks</th>\n",
       "      <th>y_parks</th>\n",
       "    </tr>\n",
       "  </thead>\n",
       "  <tbody>\n",
       "    <tr>\n",
       "      <th>0</th>\n",
       "      <td>宝船厂遗址公园</td>\n",
       "      <td>p_0</td>\n",
       "      <td>404</td>\n",
       "      <td>118.778847</td>\n",
       "      <td>31.864796</td>\n",
       "      <td>od_0</td>\n",
       "      <td>118.73099</td>\n",
       "      <td>32.063972</td>\n",
       "    </tr>\n",
       "  </tbody>\n",
       "</table>\n",
       "</div>"
      ],
      "text/plain": [
       "      name park_id  net_id         lng        lat od_id    x_parks    y_parks\n",
       "0  宝船厂遗址公园     p_0     404  118.778847  31.864796  od_0  118.73099  32.063972"
      ]
     },
     "execution_count": 23,
     "metadata": {},
     "output_type": "execute_result"
    }
   ],
   "source": [
    "dt_full_od.head(1)"
   ]
  },
  {
   "cell_type": "markdown",
   "id": "1ec5d770-420e-489d-a94e-8b5fc26f3628",
   "metadata": {},
   "source": [
    "# merge data"
   ]
  },
  {
   "cell_type": "code",
   "execution_count": 24,
   "id": "0b271b47-8920-4483-a663-518fe06acbc2",
   "metadata": {
    "tags": []
   },
   "outputs": [
    {
     "data": {
      "text/html": [
       "<div>\n",
       "<style scoped>\n",
       "    .dataframe tbody tr th:only-of-type {\n",
       "        vertical-align: middle;\n",
       "    }\n",
       "\n",
       "    .dataframe tbody tr th {\n",
       "        vertical-align: top;\n",
       "    }\n",
       "\n",
       "    .dataframe thead th {\n",
       "        text-align: right;\n",
       "    }\n",
       "</style>\n",
       "<table border=\"1\" class=\"dataframe\">\n",
       "  <thead>\n",
       "    <tr style=\"text-align: right;\">\n",
       "      <th></th>\n",
       "      <th>od_id</th>\n",
       "      <th>distance</th>\n",
       "      <th>duration</th>\n",
       "    </tr>\n",
       "  </thead>\n",
       "  <tbody>\n",
       "    <tr>\n",
       "      <th>0</th>\n",
       "      <td>od_26145</td>\n",
       "      <td>31529</td>\n",
       "      <td>9554</td>\n",
       "    </tr>\n",
       "  </tbody>\n",
       "</table>\n",
       "</div>"
      ],
      "text/plain": [
       "      od_id  distance  duration\n",
       "0  od_26145     31529      9554"
      ]
     },
     "execution_count": 24,
     "metadata": {},
     "output_type": "execute_result"
    }
   ],
   "source": [
    "od_cycle.head(1)"
   ]
  },
  {
   "cell_type": "code",
   "execution_count": 25,
   "id": "a575fc48-1d83-478d-896d-3f7fb212193e",
   "metadata": {
    "tags": []
   },
   "outputs": [
    {
     "data": {
      "text/html": [
       "<div>\n",
       "<style scoped>\n",
       "    .dataframe tbody tr th:only-of-type {\n",
       "        vertical-align: middle;\n",
       "    }\n",
       "\n",
       "    .dataframe tbody tr th {\n",
       "        vertical-align: top;\n",
       "    }\n",
       "\n",
       "    .dataframe thead th {\n",
       "        text-align: right;\n",
       "    }\n",
       "</style>\n",
       "<table border=\"1\" class=\"dataframe\">\n",
       "  <thead>\n",
       "    <tr style=\"text-align: right;\">\n",
       "      <th></th>\n",
       "      <th>name</th>\n",
       "      <th>park_id</th>\n",
       "      <th>net_id</th>\n",
       "      <th>lng</th>\n",
       "      <th>lat</th>\n",
       "      <th>od_id</th>\n",
       "      <th>x_parks</th>\n",
       "      <th>y_parks</th>\n",
       "    </tr>\n",
       "  </thead>\n",
       "  <tbody>\n",
       "    <tr>\n",
       "      <th>0</th>\n",
       "      <td>宝船厂遗址公园</td>\n",
       "      <td>p_0</td>\n",
       "      <td>404</td>\n",
       "      <td>118.778847</td>\n",
       "      <td>31.864796</td>\n",
       "      <td>od_0</td>\n",
       "      <td>118.73099</td>\n",
       "      <td>32.063972</td>\n",
       "    </tr>\n",
       "  </tbody>\n",
       "</table>\n",
       "</div>"
      ],
      "text/plain": [
       "      name park_id  net_id         lng        lat od_id    x_parks    y_parks\n",
       "0  宝船厂遗址公园     p_0     404  118.778847  31.864796  od_0  118.73099  32.063972"
      ]
     },
     "execution_count": 25,
     "metadata": {},
     "output_type": "execute_result"
    }
   ],
   "source": [
    "dt_full_od.head(1)"
   ]
  },
  {
   "cell_type": "code",
   "execution_count": 26,
   "id": "ab8700e1-ada8-49a4-b349-b3e09002c894",
   "metadata": {
    "tags": []
   },
   "outputs": [],
   "source": [
    "od_cycle = od_cycle.merge(dt_full_od, on='od_id')\n",
    "od_nav = od_nav.merge(dt_full_od, on='od_id')\n",
    "od_pt = od_pt.merge(dt_full_od, on='od_id')\n",
    "od_walk = od_walk.merge(dt_full_od, on='od_id')"
   ]
  },
  {
   "cell_type": "code",
   "execution_count": 27,
   "id": "62033630-1015-4ef7-a79e-bdeb9bf64076",
   "metadata": {
    "tags": []
   },
   "outputs": [
    {
     "data": {
      "text/html": [
       "<div>\n",
       "<style scoped>\n",
       "    .dataframe tbody tr th:only-of-type {\n",
       "        vertical-align: middle;\n",
       "    }\n",
       "\n",
       "    .dataframe tbody tr th {\n",
       "        vertical-align: top;\n",
       "    }\n",
       "\n",
       "    .dataframe thead th {\n",
       "        text-align: right;\n",
       "    }\n",
       "</style>\n",
       "<table border=\"1\" class=\"dataframe\">\n",
       "  <thead>\n",
       "    <tr style=\"text-align: right;\">\n",
       "      <th></th>\n",
       "      <th>od_id</th>\n",
       "      <th>distance</th>\n",
       "      <th>duration</th>\n",
       "      <th>name</th>\n",
       "      <th>park_id</th>\n",
       "      <th>net_id</th>\n",
       "      <th>lng</th>\n",
       "      <th>lat</th>\n",
       "      <th>x_parks</th>\n",
       "      <th>y_parks</th>\n",
       "    </tr>\n",
       "  </thead>\n",
       "  <tbody>\n",
       "    <tr>\n",
       "      <th>0</th>\n",
       "      <td>od_26145</td>\n",
       "      <td>31529</td>\n",
       "      <td>9554</td>\n",
       "      <td>大学城生态公园</td>\n",
       "      <td>p_55</td>\n",
       "      <td>586</td>\n",
       "      <td>118.700317</td>\n",
       "      <td>32.058312</td>\n",
       "      <td>118.888304</td>\n",
       "      <td>31.905333</td>\n",
       "    </tr>\n",
       "  </tbody>\n",
       "</table>\n",
       "</div>"
      ],
      "text/plain": [
       "      od_id  distance  duration     name park_id  net_id         lng  \\\n",
       "0  od_26145     31529      9554  大学城生态公园    p_55     586  118.700317   \n",
       "\n",
       "         lat     x_parks    y_parks  \n",
       "0  32.058312  118.888304  31.905333  "
      ]
     },
     "execution_count": 27,
     "metadata": {},
     "output_type": "execute_result"
    }
   ],
   "source": [
    "od_cycle.head(1)"
   ]
  },
  {
   "cell_type": "code",
   "execution_count": 28,
   "id": "f3cbe27e-4594-4f42-96c4-d7218547cb8c",
   "metadata": {
    "tags": []
   },
   "outputs": [
    {
     "data": {
      "text/html": [
       "<div>\n",
       "<style scoped>\n",
       "    .dataframe tbody tr th:only-of-type {\n",
       "        vertical-align: middle;\n",
       "    }\n",
       "\n",
       "    .dataframe tbody tr th {\n",
       "        vertical-align: top;\n",
       "    }\n",
       "\n",
       "    .dataframe thead th {\n",
       "        text-align: right;\n",
       "    }\n",
       "</style>\n",
       "<table border=\"1\" class=\"dataframe\">\n",
       "  <thead>\n",
       "    <tr style=\"text-align: right;\">\n",
       "      <th></th>\n",
       "      <th>od_id</th>\n",
       "      <th>distance</th>\n",
       "      <th>duration</th>\n",
       "      <th>name</th>\n",
       "      <th>park_id</th>\n",
       "      <th>net_id</th>\n",
       "      <th>lng</th>\n",
       "      <th>lat</th>\n",
       "      <th>x_parks</th>\n",
       "      <th>y_parks</th>\n",
       "    </tr>\n",
       "  </thead>\n",
       "  <tbody>\n",
       "    <tr>\n",
       "      <th>0</th>\n",
       "      <td>od_18693</td>\n",
       "      <td>6326.3</td>\n",
       "      <td>384.1</td>\n",
       "      <td>新城公园</td>\n",
       "      <td>p_38</td>\n",
       "      <td>741</td>\n",
       "      <td>118.893859</td>\n",
       "      <td>32.100239</td>\n",
       "      <td>118.881356</td>\n",
       "      <td>32.132049</td>\n",
       "    </tr>\n",
       "  </tbody>\n",
       "</table>\n",
       "</div>"
      ],
      "text/plain": [
       "      od_id  distance  duration  name park_id  net_id         lng        lat  \\\n",
       "0  od_18693    6326.3     384.1  新城公园    p_38     741  118.893859  32.100239   \n",
       "\n",
       "      x_parks    y_parks  \n",
       "0  118.881356  32.132049  "
      ]
     },
     "execution_count": 28,
     "metadata": {},
     "output_type": "execute_result"
    }
   ],
   "source": [
    "od_nav.head(1)"
   ]
  },
  {
   "cell_type": "code",
   "execution_count": 29,
   "id": "9e961937-fc13-41d5-a61f-3af995d2b9b1",
   "metadata": {
    "tags": []
   },
   "outputs": [
    {
     "data": {
      "text/html": [
       "<div>\n",
       "<style scoped>\n",
       "    .dataframe tbody tr th:only-of-type {\n",
       "        vertical-align: middle;\n",
       "    }\n",
       "\n",
       "    .dataframe tbody tr th {\n",
       "        vertical-align: top;\n",
       "    }\n",
       "\n",
       "    .dataframe thead th {\n",
       "        text-align: right;\n",
       "    }\n",
       "</style>\n",
       "<table border=\"1\" class=\"dataframe\">\n",
       "  <thead>\n",
       "    <tr style=\"text-align: right;\">\n",
       "      <th></th>\n",
       "      <th>od_id</th>\n",
       "      <th>distance</th>\n",
       "      <th>duration</th>\n",
       "      <th>name</th>\n",
       "      <th>park_id</th>\n",
       "      <th>net_id</th>\n",
       "      <th>lng</th>\n",
       "      <th>lat</th>\n",
       "      <th>x_parks</th>\n",
       "      <th>y_parks</th>\n",
       "    </tr>\n",
       "  </thead>\n",
       "  <tbody>\n",
       "    <tr>\n",
       "      <th>0</th>\n",
       "      <td>od_10820</td>\n",
       "      <td>21983</td>\n",
       "      <td>4194</td>\n",
       "      <td>月牙湖公园</td>\n",
       "      <td>p_23</td>\n",
       "      <td>511</td>\n",
       "      <td>118.990674</td>\n",
       "      <td>32.12108</td>\n",
       "      <td>118.825773</td>\n",
       "      <td>32.032019</td>\n",
       "    </tr>\n",
       "  </tbody>\n",
       "</table>\n",
       "</div>"
      ],
      "text/plain": [
       "      od_id  distance  duration   name park_id  net_id         lng       lat  \\\n",
       "0  od_10820     21983      4194  月牙湖公园    p_23     511  118.990674  32.12108   \n",
       "\n",
       "      x_parks    y_parks  \n",
       "0  118.825773  32.032019  "
      ]
     },
     "execution_count": 29,
     "metadata": {},
     "output_type": "execute_result"
    }
   ],
   "source": [
    "od_pt.head(1)"
   ]
  },
  {
   "cell_type": "code",
   "execution_count": 30,
   "id": "d75ff901-7224-4c97-86ed-ec43c4c9dd81",
   "metadata": {
    "tags": []
   },
   "outputs": [
    {
     "data": {
      "text/html": [
       "<div>\n",
       "<style scoped>\n",
       "    .dataframe tbody tr th:only-of-type {\n",
       "        vertical-align: middle;\n",
       "    }\n",
       "\n",
       "    .dataframe tbody tr th {\n",
       "        vertical-align: top;\n",
       "    }\n",
       "\n",
       "    .dataframe thead th {\n",
       "        text-align: right;\n",
       "    }\n",
       "</style>\n",
       "<table border=\"1\" class=\"dataframe\">\n",
       "  <thead>\n",
       "    <tr style=\"text-align: right;\">\n",
       "      <th></th>\n",
       "      <th>od_id</th>\n",
       "      <th>distance</th>\n",
       "      <th>duration</th>\n",
       "      <th>name</th>\n",
       "      <th>park_id</th>\n",
       "      <th>net_id</th>\n",
       "      <th>lng</th>\n",
       "      <th>lat</th>\n",
       "      <th>x_parks</th>\n",
       "      <th>y_parks</th>\n",
       "    </tr>\n",
       "  </thead>\n",
       "  <tbody>\n",
       "    <tr>\n",
       "      <th>0</th>\n",
       "      <td>od_10820</td>\n",
       "      <td>21057</td>\n",
       "      <td>18048</td>\n",
       "      <td>月牙湖公园</td>\n",
       "      <td>p_23</td>\n",
       "      <td>511</td>\n",
       "      <td>118.990674</td>\n",
       "      <td>32.12108</td>\n",
       "      <td>118.825773</td>\n",
       "      <td>32.032019</td>\n",
       "    </tr>\n",
       "  </tbody>\n",
       "</table>\n",
       "</div>"
      ],
      "text/plain": [
       "      od_id  distance  duration   name park_id  net_id         lng       lat  \\\n",
       "0  od_10820     21057     18048  月牙湖公园    p_23     511  118.990674  32.12108   \n",
       "\n",
       "      x_parks    y_parks  \n",
       "0  118.825773  32.032019  "
      ]
     },
     "execution_count": 30,
     "metadata": {},
     "output_type": "execute_result"
    }
   ],
   "source": [
    "od_walk.head(1)"
   ]
  },
  {
   "cell_type": "code",
   "execution_count": 31,
   "id": "7af9f954-72e1-4a97-9383-41d4e6d096fd",
   "metadata": {
    "tags": []
   },
   "outputs": [],
   "source": [
    "# od_cycle.to_csv(f'../data_to_cal_accessibility/od_cycle_{file_name}.csv', index=False) \n",
    "# od_nav.to_csv(f'../data_to_cal_accessibility/od_nav_{file_name}.csv', index=False) \n",
    "# od_pt.to_csv(f'../data_to_cal_accessibility/od_pt_{file_name}.csv', index=False)\n",
    "# od_walk.to_csv(f'../data_to_cal_accessibility/od_walk_{file_name}.csv', index=False) "
   ]
  },
  {
   "cell_type": "code",
   "execution_count": null,
   "id": "5c09c1b0-c64f-49be-9262-f6c493cd8dff",
   "metadata": {},
   "outputs": [],
   "source": []
  }
 ],
 "metadata": {
  "kernelspec": {
   "display_name": "Python 3 (ipykernel)",
   "language": "python",
   "name": "python3"
  },
  "language_info": {
   "codemirror_mode": {
    "name": "ipython",
    "version": 3
   },
   "file_extension": ".py",
   "mimetype": "text/x-python",
   "name": "python",
   "nbconvert_exporter": "python",
   "pygments_lexer": "ipython3",
   "version": "3.11.5"
  },
  "toc-autonumbering": true
 },
 "nbformat": 4,
 "nbformat_minor": 5
}
