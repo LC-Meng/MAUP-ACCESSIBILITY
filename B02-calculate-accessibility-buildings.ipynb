{
 "cells": [
  {
   "cell_type": "code",
   "execution_count": 1,
   "id": "18a23c6c-750d-4811-95bd-73ee859410b8",
   "metadata": {
    "tags": []
   },
   "outputs": [],
   "source": [
    "import warnings\n",
    "warnings.filterwarnings('ignore')\n",
    "\n",
    "import os\n",
    "import pandas as pd\n",
    "import numpy as np\n",
    "import matplotlib as mpl\n",
    "\n",
    "import matplotlib.pyplot as plt\n",
    "import platform\n",
    "if platform.system() == \"Windows\":\n",
    "    plt.rcParams['font.family'] = ['Times new roman',] # windows->Heiti TC\n",
    "else:\n",
    "    plt.rcParams['font.family'] = ['Heiti TC',] # windows->Heiti TC\n",
    "    \n",
    "plt.rcParams['axes.unicode_minus'] = False # windows->simhei\n",
    "plt.rcParams['figure.dpi'] = 200\n",
    "\n",
    "import geopandas as gpd\n",
    "import shapely\n",
    "from shapely.geometry import Point,Polygon,LineString,MultiLineString,MultiPoint,MultiPolygon\n",
    "\n",
    "import pickle\n",
    "from tqdm import tqdm\n",
    "from glob import glob\n",
    "import joblib\n",
    "\n",
    "import seaborn as sns"
   ]
  },
  {
   "cell_type": "code",
   "execution_count": 2,
   "id": "1f633242-2292-4055-a986-17de90cfbfbf",
   "metadata": {
    "tags": []
   },
   "outputs": [],
   "source": [
    "import os\n",
    "\n",
    "import platform\n",
    "if platform.system() == \"Windows\":\n",
    "    os.chdir(r'H:\\BaiduSyncdisk\\DR.MENG-Full\\Y2024-002-DT-NANJING-ACCESSIBILITY-MAUP')\n",
    "else:\n",
    "    os.chdir(r'/Volumes/SANDISK/DR.MENG')"
   ]
  },
  {
   "cell_type": "markdown",
   "id": "a50cd8f3-bbb4-439b-91de-fc56115f4ff9",
   "metadata": {},
   "source": [
    "# 读取数据"
   ]
  },
  {
   "cell_type": "code",
   "execution_count": 3,
   "id": "56a9c9bc-d06e-4669-8496-af31cf913f3c",
   "metadata": {
    "tags": []
   },
   "outputs": [],
   "source": [
    "# od_walk_buildings  od_pt_buildings od_nav_buildings od_cycle_buildings"
   ]
  },
  {
   "cell_type": "code",
   "execution_count": 4,
   "id": "d628b82f-93d2-4193-a9e7-c71eee7d9dc3",
   "metadata": {
    "tags": []
   },
   "outputs": [],
   "source": [
    "file_name = 'od_walk_buildings' \n",
    "time_threshold = 900 # 900 1800"
   ]
  },
  {
   "cell_type": "code",
   "execution_count": 5,
   "id": "2f56245e-e74d-4d7a-91f7-e5191f2ba4c3",
   "metadata": {
    "tags": []
   },
   "outputs": [],
   "source": [
    "od_nav = pd.read_csv(f'./data_to_cal_accessibility/{file_name}.csv')"
   ]
  },
  {
   "cell_type": "code",
   "execution_count": 6,
   "id": "c46ec39a-c09e-4252-9cf2-a150a2bcde4b",
   "metadata": {
    "tags": []
   },
   "outputs": [
    {
     "data": {
      "text/html": [
       "<div>\n",
       "<style scoped>\n",
       "    .dataframe tbody tr th:only-of-type {\n",
       "        vertical-align: middle;\n",
       "    }\n",
       "\n",
       "    .dataframe tbody tr th {\n",
       "        vertical-align: top;\n",
       "    }\n",
       "\n",
       "    .dataframe thead th {\n",
       "        text-align: right;\n",
       "    }\n",
       "</style>\n",
       "<table border=\"1\" class=\"dataframe\">\n",
       "  <thead>\n",
       "    <tr style=\"text-align: right;\">\n",
       "      <th></th>\n",
       "      <th>od_id</th>\n",
       "      <th>distance</th>\n",
       "      <th>duration</th>\n",
       "      <th>building_id</th>\n",
       "      <th>x_res</th>\n",
       "      <th>y_res</th>\n",
       "      <th>name</th>\n",
       "      <th>park_id</th>\n",
       "      <th>x_parks</th>\n",
       "      <th>y_parks</th>\n",
       "    </tr>\n",
       "  </thead>\n",
       "  <tbody>\n",
       "    <tr>\n",
       "      <th>10276168</th>\n",
       "      <td>od_4841371</td>\n",
       "      <td>5557</td>\n",
       "      <td>4763</td>\n",
       "      <td>b_132720</td>\n",
       "      <td>118.738063</td>\n",
       "      <td>32.052189</td>\n",
       "      <td>北极阁公园</td>\n",
       "      <td>p_11</td>\n",
       "      <td>118.783473</td>\n",
       "      <td>32.062453</td>\n",
       "    </tr>\n",
       "  </tbody>\n",
       "</table>\n",
       "</div>"
      ],
      "text/plain": [
       "               od_id  distance  duration building_id       x_res      y_res  \\\n",
       "10276168  od_4841371      5557      4763    b_132720  118.738063  32.052189   \n",
       "\n",
       "           name park_id     x_parks    y_parks  \n",
       "10276168  北极阁公园    p_11  118.783473  32.062453  "
      ]
     },
     "execution_count": 6,
     "metadata": {},
     "output_type": "execute_result"
    }
   ],
   "source": [
    "od_nav.tail(1)"
   ]
  },
  {
   "cell_type": "code",
   "execution_count": 7,
   "id": "3bdd4e52-fb2b-49c6-85db-f968c4750199",
   "metadata": {
    "tags": []
   },
   "outputs": [],
   "source": [
    "# od_nav.rename(columns={'net_id':'building_id'}, inplace=True)"
   ]
  },
  {
   "cell_type": "code",
   "execution_count": 8,
   "id": "8d11dc4b-67d5-485e-986a-8f3f37aff54c",
   "metadata": {
    "tags": []
   },
   "outputs": [
    {
     "data": {
      "text/plain": [
       "10276169"
      ]
     },
     "execution_count": 8,
     "metadata": {},
     "output_type": "execute_result"
    }
   ],
   "source": [
    "len(od_nav)"
   ]
  },
  {
   "cell_type": "code",
   "execution_count": 9,
   "id": "7a77d06a-6729-49fd-af08-c767c94e35d2",
   "metadata": {
    "tags": []
   },
   "outputs": [],
   "source": [
    "area_pop = joblib.load('./od_request_data_buildings/area_pop.joblib')"
   ]
  },
  {
   "cell_type": "code",
   "execution_count": 10,
   "id": "6ec70b25-cb9c-41fa-9128-5fede4a8cb1f",
   "metadata": {
    "tags": []
   },
   "outputs": [],
   "source": [
    "area = area_pop['area']\n",
    "pop = area_pop['pop']"
   ]
  },
  {
   "cell_type": "code",
   "execution_count": 11,
   "id": "564c9ccd-d946-4144-add4-5b82bdff28ab",
   "metadata": {
    "tags": []
   },
   "outputs": [
    {
     "data": {
      "text/html": [
       "<div>\n",
       "<style scoped>\n",
       "    .dataframe tbody tr th:only-of-type {\n",
       "        vertical-align: middle;\n",
       "    }\n",
       "\n",
       "    .dataframe tbody tr th {\n",
       "        vertical-align: top;\n",
       "    }\n",
       "\n",
       "    .dataframe thead th {\n",
       "        text-align: right;\n",
       "    }\n",
       "</style>\n",
       "<table border=\"1\" class=\"dataframe\">\n",
       "  <thead>\n",
       "    <tr style=\"text-align: right;\">\n",
       "      <th></th>\n",
       "      <th>park_id</th>\n",
       "      <th>park_area</th>\n",
       "    </tr>\n",
       "  </thead>\n",
       "  <tbody>\n",
       "    <tr>\n",
       "      <th>0</th>\n",
       "      <td>p_0</td>\n",
       "      <td>132881</td>\n",
       "    </tr>\n",
       "  </tbody>\n",
       "</table>\n",
       "</div>"
      ],
      "text/plain": [
       "  park_id  park_area\n",
       "0     p_0     132881"
      ]
     },
     "execution_count": 11,
     "metadata": {},
     "output_type": "execute_result"
    }
   ],
   "source": [
    "area.head(1)"
   ]
  },
  {
   "cell_type": "code",
   "execution_count": 12,
   "id": "11f27b7e-4de6-46a6-854e-a27b565a6b89",
   "metadata": {
    "tags": []
   },
   "outputs": [
    {
     "data": {
      "text/html": [
       "<div>\n",
       "<style scoped>\n",
       "    .dataframe tbody tr th:only-of-type {\n",
       "        vertical-align: middle;\n",
       "    }\n",
       "\n",
       "    .dataframe tbody tr th {\n",
       "        vertical-align: top;\n",
       "    }\n",
       "\n",
       "    .dataframe thead th {\n",
       "        text-align: right;\n",
       "    }\n",
       "</style>\n",
       "<table border=\"1\" class=\"dataframe\">\n",
       "  <thead>\n",
       "    <tr style=\"text-align: right;\">\n",
       "      <th></th>\n",
       "      <th>building_id</th>\n",
       "      <th>building_pop</th>\n",
       "    </tr>\n",
       "  </thead>\n",
       "  <tbody>\n",
       "    <tr>\n",
       "      <th>0</th>\n",
       "      <td>b_0</td>\n",
       "      <td>87</td>\n",
       "    </tr>\n",
       "  </tbody>\n",
       "</table>\n",
       "</div>"
      ],
      "text/plain": [
       "  building_id  building_pop\n",
       "0         b_0            87"
      ]
     },
     "execution_count": 12,
     "metadata": {},
     "output_type": "execute_result"
    }
   ],
   "source": [
    "pop.head(1)"
   ]
  },
  {
   "cell_type": "code",
   "execution_count": 13,
   "id": "5ffff09b-bf83-44ae-aa17-31f6156c7b61",
   "metadata": {
    "tags": []
   },
   "outputs": [],
   "source": [
    "res = od_nav.merge(area, on='park_id',how='left').\\\n",
    "    merge(pop, on='building_id',how='left')"
   ]
  },
  {
   "cell_type": "code",
   "execution_count": 14,
   "id": "65d653ba-5257-4680-aabb-12d223e6c43e",
   "metadata": {
    "tags": []
   },
   "outputs": [],
   "source": [
    "res = res.fillna(0)"
   ]
  },
  {
   "cell_type": "code",
   "execution_count": 15,
   "id": "0da43e94-5649-4406-a362-f695cb2ea20d",
   "metadata": {
    "tags": []
   },
   "outputs": [
    {
     "data": {
      "text/html": [
       "<div>\n",
       "<style scoped>\n",
       "    .dataframe tbody tr th:only-of-type {\n",
       "        vertical-align: middle;\n",
       "    }\n",
       "\n",
       "    .dataframe tbody tr th {\n",
       "        vertical-align: top;\n",
       "    }\n",
       "\n",
       "    .dataframe thead th {\n",
       "        text-align: right;\n",
       "    }\n",
       "</style>\n",
       "<table border=\"1\" class=\"dataframe\">\n",
       "  <thead>\n",
       "    <tr style=\"text-align: right;\">\n",
       "      <th></th>\n",
       "      <th>od_id</th>\n",
       "      <th>distance</th>\n",
       "      <th>duration</th>\n",
       "      <th>building_id</th>\n",
       "      <th>x_res</th>\n",
       "      <th>y_res</th>\n",
       "      <th>name</th>\n",
       "      <th>park_id</th>\n",
       "      <th>x_parks</th>\n",
       "      <th>y_parks</th>\n",
       "      <th>park_area</th>\n",
       "      <th>building_pop</th>\n",
       "    </tr>\n",
       "  </thead>\n",
       "  <tbody>\n",
       "    <tr>\n",
       "      <th>0</th>\n",
       "      <td>od_8221176</td>\n",
       "      <td>5711</td>\n",
       "      <td>4895</td>\n",
       "      <td>b_130167</td>\n",
       "      <td>118.759773</td>\n",
       "      <td>32.079866</td>\n",
       "      <td>朝天宫公园</td>\n",
       "      <td>p_132</td>\n",
       "      <td>118.768702</td>\n",
       "      <td>32.035746</td>\n",
       "      <td>94086</td>\n",
       "      <td>0.0</td>\n",
       "    </tr>\n",
       "    <tr>\n",
       "      <th>1</th>\n",
       "      <td>od_9248823</td>\n",
       "      <td>5235</td>\n",
       "      <td>4487</td>\n",
       "      <td>b_31673</td>\n",
       "      <td>118.777357</td>\n",
       "      <td>32.032726</td>\n",
       "      <td>月牙湖公园</td>\n",
       "      <td>p_23</td>\n",
       "      <td>118.825773</td>\n",
       "      <td>32.032019</td>\n",
       "      <td>673374</td>\n",
       "      <td>6.0</td>\n",
       "    </tr>\n",
       "    <tr>\n",
       "      <th>2</th>\n",
       "      <td>od_3082941</td>\n",
       "      <td>4389</td>\n",
       "      <td>3762</td>\n",
       "      <td>b_5882</td>\n",
       "      <td>118.789240</td>\n",
       "      <td>31.927500</td>\n",
       "      <td>凤凰台公园（百家湖广场）</td>\n",
       "      <td>p_52</td>\n",
       "      <td>118.815414</td>\n",
       "      <td>31.936851</td>\n",
       "      <td>60024</td>\n",
       "      <td>111.0</td>\n",
       "    </tr>\n",
       "    <tr>\n",
       "      <th>3</th>\n",
       "      <td>od_5138235</td>\n",
       "      <td>2519</td>\n",
       "      <td>2159</td>\n",
       "      <td>b_132980</td>\n",
       "      <td>118.809417</td>\n",
       "      <td>32.027203</td>\n",
       "      <td>西安门遗址公园</td>\n",
       "      <td>p_17</td>\n",
       "      <td>118.800653</td>\n",
       "      <td>32.041573</td>\n",
       "      <td>10317</td>\n",
       "      <td>70.0</td>\n",
       "    </tr>\n",
       "    <tr>\n",
       "      <th>4</th>\n",
       "      <td>od_6165882</td>\n",
       "      <td>2831</td>\n",
       "      <td>2426</td>\n",
       "      <td>b_99936</td>\n",
       "      <td>118.729463</td>\n",
       "      <td>32.055453</td>\n",
       "      <td>石头城公园（南京国防园）</td>\n",
       "      <td>p_102</td>\n",
       "      <td>118.751018</td>\n",
       "      <td>32.050519</td>\n",
       "      <td>145355</td>\n",
       "      <td>8.0</td>\n",
       "    </tr>\n",
       "    <tr>\n",
       "      <th>...</th>\n",
       "      <td>...</td>\n",
       "      <td>...</td>\n",
       "      <td>...</td>\n",
       "      <td>...</td>\n",
       "      <td>...</td>\n",
       "      <td>...</td>\n",
       "      <td>...</td>\n",
       "      <td>...</td>\n",
       "      <td>...</td>\n",
       "      <td>...</td>\n",
       "      <td>...</td>\n",
       "      <td>...</td>\n",
       "    </tr>\n",
       "    <tr>\n",
       "      <th>10276164</th>\n",
       "      <td>od_4841367</td>\n",
       "      <td>5557</td>\n",
       "      <td>4763</td>\n",
       "      <td>b_132720</td>\n",
       "      <td>118.738063</td>\n",
       "      <td>32.052189</td>\n",
       "      <td>北极阁公园</td>\n",
       "      <td>p_11</td>\n",
       "      <td>118.783425</td>\n",
       "      <td>32.062465</td>\n",
       "      <td>121334</td>\n",
       "      <td>4.0</td>\n",
       "    </tr>\n",
       "    <tr>\n",
       "      <th>10276165</th>\n",
       "      <td>od_4841368</td>\n",
       "      <td>5563</td>\n",
       "      <td>4768</td>\n",
       "      <td>b_132720</td>\n",
       "      <td>118.738063</td>\n",
       "      <td>32.052189</td>\n",
       "      <td>北极阁公园</td>\n",
       "      <td>p_11</td>\n",
       "      <td>118.785818</td>\n",
       "      <td>32.060344</td>\n",
       "      <td>121334</td>\n",
       "      <td>4.0</td>\n",
       "    </tr>\n",
       "    <tr>\n",
       "      <th>10276166</th>\n",
       "      <td>od_4841369</td>\n",
       "      <td>5513</td>\n",
       "      <td>4725</td>\n",
       "      <td>b_132720</td>\n",
       "      <td>118.738063</td>\n",
       "      <td>32.052189</td>\n",
       "      <td>北极阁公园</td>\n",
       "      <td>p_11</td>\n",
       "      <td>118.783051</td>\n",
       "      <td>32.062195</td>\n",
       "      <td>121334</td>\n",
       "      <td>4.0</td>\n",
       "    </tr>\n",
       "    <tr>\n",
       "      <th>10276167</th>\n",
       "      <td>od_4841370</td>\n",
       "      <td>5949</td>\n",
       "      <td>5099</td>\n",
       "      <td>b_132720</td>\n",
       "      <td>118.738063</td>\n",
       "      <td>32.052189</td>\n",
       "      <td>北极阁公园</td>\n",
       "      <td>p_11</td>\n",
       "      <td>118.789184</td>\n",
       "      <td>32.060668</td>\n",
       "      <td>121334</td>\n",
       "      <td>4.0</td>\n",
       "    </tr>\n",
       "    <tr>\n",
       "      <th>10276168</th>\n",
       "      <td>od_4841371</td>\n",
       "      <td>5557</td>\n",
       "      <td>4763</td>\n",
       "      <td>b_132720</td>\n",
       "      <td>118.738063</td>\n",
       "      <td>32.052189</td>\n",
       "      <td>北极阁公园</td>\n",
       "      <td>p_11</td>\n",
       "      <td>118.783473</td>\n",
       "      <td>32.062453</td>\n",
       "      <td>121334</td>\n",
       "      <td>4.0</td>\n",
       "    </tr>\n",
       "  </tbody>\n",
       "</table>\n",
       "<p>10276169 rows × 12 columns</p>\n",
       "</div>"
      ],
      "text/plain": [
       "               od_id  distance  duration building_id       x_res      y_res  \\\n",
       "0         od_8221176      5711      4895    b_130167  118.759773  32.079866   \n",
       "1         od_9248823      5235      4487     b_31673  118.777357  32.032726   \n",
       "2         od_3082941      4389      3762      b_5882  118.789240  31.927500   \n",
       "3         od_5138235      2519      2159    b_132980  118.809417  32.027203   \n",
       "4         od_6165882      2831      2426     b_99936  118.729463  32.055453   \n",
       "...              ...       ...       ...         ...         ...        ...   \n",
       "10276164  od_4841367      5557      4763    b_132720  118.738063  32.052189   \n",
       "10276165  od_4841368      5563      4768    b_132720  118.738063  32.052189   \n",
       "10276166  od_4841369      5513      4725    b_132720  118.738063  32.052189   \n",
       "10276167  od_4841370      5949      5099    b_132720  118.738063  32.052189   \n",
       "10276168  od_4841371      5557      4763    b_132720  118.738063  32.052189   \n",
       "\n",
       "                  name park_id     x_parks    y_parks  park_area  building_pop  \n",
       "0                朝天宫公园   p_132  118.768702  32.035746      94086           0.0  \n",
       "1                月牙湖公园    p_23  118.825773  32.032019     673374           6.0  \n",
       "2         凤凰台公园（百家湖广场）    p_52  118.815414  31.936851      60024         111.0  \n",
       "3              西安门遗址公园    p_17  118.800653  32.041573      10317          70.0  \n",
       "4         石头城公园（南京国防园）   p_102  118.751018  32.050519     145355           8.0  \n",
       "...                ...     ...         ...        ...        ...           ...  \n",
       "10276164         北极阁公园    p_11  118.783425  32.062465     121334           4.0  \n",
       "10276165         北极阁公园    p_11  118.785818  32.060344     121334           4.0  \n",
       "10276166         北极阁公园    p_11  118.783051  32.062195     121334           4.0  \n",
       "10276167         北极阁公园    p_11  118.789184  32.060668     121334           4.0  \n",
       "10276168         北极阁公园    p_11  118.783473  32.062453     121334           4.0  \n",
       "\n",
       "[10276169 rows x 12 columns]"
      ]
     },
     "execution_count": 15,
     "metadata": {},
     "output_type": "execute_result"
    }
   ],
   "source": [
    "res"
   ]
  },
  {
   "cell_type": "code",
   "execution_count": 16,
   "id": "164e52a2-76da-498e-b233-b07d146945e1",
   "metadata": {
    "tags": []
   },
   "outputs": [],
   "source": [
    "# 步行10分钟，15分钟，30分钟"
   ]
  },
  {
   "cell_type": "markdown",
   "id": "8ed259d5-6721-431a-8788-62c03d86eca0",
   "metadata": {},
   "source": [
    "# 600s == 10 mins"
   ]
  },
  {
   "cell_type": "markdown",
   "id": "49bec015-1bf5-4eb0-8ad4-5849f5f2620e",
   "metadata": {},
   "source": [
    "## 2SFCA first step"
   ]
  },
  {
   "cell_type": "code",
   "execution_count": 17,
   "id": "8bf735c1-6339-4d74-ad61-effc1870a14e",
   "metadata": {
    "tags": []
   },
   "outputs": [
    {
     "data": {
      "text/plain": [
       "(600, 900, 1800)"
      ]
     },
     "execution_count": 17,
     "metadata": {},
     "output_type": "execute_result"
    }
   ],
   "source": [
    "10*60,15*60,30*60\n",
    "\n",
    "# 10 分钟 15分钟 30分钟"
   ]
  },
  {
   "cell_type": "code",
   "execution_count": 18,
   "id": "28f5d870-fa4c-4015-a9f4-32d079b4321c",
   "metadata": {
    "tags": []
   },
   "outputs": [
    {
     "data": {
      "text/html": [
       "<div>\n",
       "<style scoped>\n",
       "    .dataframe tbody tr th:only-of-type {\n",
       "        vertical-align: middle;\n",
       "    }\n",
       "\n",
       "    .dataframe tbody tr th {\n",
       "        vertical-align: top;\n",
       "    }\n",
       "\n",
       "    .dataframe thead th {\n",
       "        text-align: right;\n",
       "    }\n",
       "</style>\n",
       "<table border=\"1\" class=\"dataframe\">\n",
       "  <thead>\n",
       "    <tr style=\"text-align: right;\">\n",
       "      <th></th>\n",
       "      <th>od_id</th>\n",
       "      <th>distance</th>\n",
       "      <th>duration</th>\n",
       "      <th>building_id</th>\n",
       "      <th>x_res</th>\n",
       "      <th>y_res</th>\n",
       "      <th>name</th>\n",
       "      <th>park_id</th>\n",
       "      <th>x_parks</th>\n",
       "      <th>y_parks</th>\n",
       "      <th>park_area</th>\n",
       "      <th>building_pop</th>\n",
       "    </tr>\n",
       "  </thead>\n",
       "  <tbody>\n",
       "    <tr>\n",
       "      <th>0</th>\n",
       "      <td>od_8221176</td>\n",
       "      <td>5711</td>\n",
       "      <td>4895</td>\n",
       "      <td>b_130167</td>\n",
       "      <td>118.759773</td>\n",
       "      <td>32.079866</td>\n",
       "      <td>朝天宫公园</td>\n",
       "      <td>p_132</td>\n",
       "      <td>118.768702</td>\n",
       "      <td>32.035746</td>\n",
       "      <td>94086</td>\n",
       "      <td>0.0</td>\n",
       "    </tr>\n",
       "    <tr>\n",
       "      <th>1</th>\n",
       "      <td>od_9248823</td>\n",
       "      <td>5235</td>\n",
       "      <td>4487</td>\n",
       "      <td>b_31673</td>\n",
       "      <td>118.777357</td>\n",
       "      <td>32.032726</td>\n",
       "      <td>月牙湖公园</td>\n",
       "      <td>p_23</td>\n",
       "      <td>118.825773</td>\n",
       "      <td>32.032019</td>\n",
       "      <td>673374</td>\n",
       "      <td>6.0</td>\n",
       "    </tr>\n",
       "  </tbody>\n",
       "</table>\n",
       "</div>"
      ],
      "text/plain": [
       "        od_id  distance  duration building_id       x_res      y_res   name  \\\n",
       "0  od_8221176      5711      4895    b_130167  118.759773  32.079866  朝天宫公园   \n",
       "1  od_9248823      5235      4487     b_31673  118.777357  32.032726  月牙湖公园   \n",
       "\n",
       "  park_id     x_parks    y_parks  park_area  building_pop  \n",
       "0   p_132  118.768702  32.035746      94086           0.0  \n",
       "1    p_23  118.825773  32.032019     673374           6.0  "
      ]
     },
     "execution_count": 18,
     "metadata": {},
     "output_type": "execute_result"
    }
   ],
   "source": [
    "res.head(2)"
   ]
  },
  {
   "cell_type": "code",
   "execution_count": 19,
   "id": "3af7f971-fcb3-41cc-abcb-c3519e862a79",
   "metadata": {
    "tags": []
   },
   "outputs": [
    {
     "data": {
      "text/plain": [
       "10276169"
      ]
     },
     "execution_count": 19,
     "metadata": {},
     "output_type": "execute_result"
    }
   ],
   "source": [
    "resx = res.sort_values(by=['building_id','park_id','duration'])\n",
    "len(resx)"
   ]
  },
  {
   "cell_type": "code",
   "execution_count": 20,
   "id": "9d8e29bb-4a10-4bd3-8903-e84b0d9db14d",
   "metadata": {
    "tags": []
   },
   "outputs": [
    {
     "data": {
      "text/plain": [
       "2745586"
      ]
     },
     "execution_count": 20,
     "metadata": {},
     "output_type": "execute_result"
    }
   ],
   "source": [
    "resx = resx.drop_duplicates(subset=['building_id','park_id'],keep='first')\n",
    "len(resx)  # 获取了每一幢住宅至公园的最短耗时，"
   ]
  },
  {
   "cell_type": "code",
   "execution_count": 21,
   "id": "0e6b4680-96ec-4b95-b2eb-c9ae83640073",
   "metadata": {
    "tags": []
   },
   "outputs": [],
   "source": [
    "def get_G(x):\n",
    "    threshold = time_threshold\n",
    "    if x <= threshold:\n",
    "        G = (np.exp(-0.5 * (x/threshold)**2) - np.exp(-0.5)) / (1 - np.exp(-0.5))\n",
    "        return G\n",
    "    else:\n",
    "        return 0\n",
    "\n",
    "def get_Rj(x):\n",
    "    x = x.reset_index()\n",
    "    Sj = x['park_area'][0]\n",
    "\n",
    "    dt = 0\n",
    "    for i in range(len(x)):\n",
    "        if x['duration'][i] > 1:\n",
    "            vl = x['building_pop'][i] * get_G(x['duration'][i])\n",
    "            dt = dt + vl\n",
    "        else:\n",
    "            dt = 0\n",
    "    # print(dt)\n",
    "    if dt == 0:\n",
    "        return 0\n",
    "    else:\n",
    "        return Sj/dt"
   ]
  },
  {
   "cell_type": "code",
   "execution_count": 22,
   "id": "ea30b63b-29f7-4845-b3c7-486b38bee0e7",
   "metadata": {
    "tags": []
   },
   "outputs": [
    {
     "data": {
      "text/html": [
       "<div>\n",
       "<style scoped>\n",
       "    .dataframe tbody tr th:only-of-type {\n",
       "        vertical-align: middle;\n",
       "    }\n",
       "\n",
       "    .dataframe tbody tr th {\n",
       "        vertical-align: top;\n",
       "    }\n",
       "\n",
       "    .dataframe thead th {\n",
       "        text-align: right;\n",
       "    }\n",
       "</style>\n",
       "<table border=\"1\" class=\"dataframe\">\n",
       "  <thead>\n",
       "    <tr style=\"text-align: right;\">\n",
       "      <th></th>\n",
       "      <th>od_id</th>\n",
       "      <th>distance</th>\n",
       "      <th>duration</th>\n",
       "      <th>building_id</th>\n",
       "      <th>x_res</th>\n",
       "      <th>y_res</th>\n",
       "      <th>name</th>\n",
       "      <th>park_id</th>\n",
       "      <th>x_parks</th>\n",
       "      <th>y_parks</th>\n",
       "      <th>park_area</th>\n",
       "      <th>building_pop</th>\n",
       "    </tr>\n",
       "  </thead>\n",
       "  <tbody>\n",
       "    <tr>\n",
       "      <th>288004</th>\n",
       "      <td>od_28419</td>\n",
       "      <td>53</td>\n",
       "      <td>45</td>\n",
       "      <td>b_33740</td>\n",
       "      <td>118.757577</td>\n",
       "      <td>32.028712</td>\n",
       "      <td>南湖公园</td>\n",
       "      <td>p_8</td>\n",
       "      <td>118.757111</td>\n",
       "      <td>32.028639</td>\n",
       "      <td>87331</td>\n",
       "      <td>30.0</td>\n",
       "    </tr>\n",
       "    <tr>\n",
       "      <th>688775</th>\n",
       "      <td>od_68131</td>\n",
       "      <td>58</td>\n",
       "      <td>49</td>\n",
       "      <td>b_77512</td>\n",
       "      <td>118.757303</td>\n",
       "      <td>32.028835</td>\n",
       "      <td>南湖公园</td>\n",
       "      <td>p_8</td>\n",
       "      <td>118.757111</td>\n",
       "      <td>32.028639</td>\n",
       "      <td>87331</td>\n",
       "      <td>4.0</td>\n",
       "    </tr>\n",
       "    <tr>\n",
       "      <th>688711</th>\n",
       "      <td>od_68124</td>\n",
       "      <td>73</td>\n",
       "      <td>62</td>\n",
       "      <td>b_77509</td>\n",
       "      <td>118.758897</td>\n",
       "      <td>32.031051</td>\n",
       "      <td>南湖公园</td>\n",
       "      <td>p_8</td>\n",
       "      <td>118.758127</td>\n",
       "      <td>32.030900</td>\n",
       "      <td>87331</td>\n",
       "      <td>0.0</td>\n",
       "    </tr>\n",
       "    <tr>\n",
       "      <th>329793</th>\n",
       "      <td>od_32686</td>\n",
       "      <td>75</td>\n",
       "      <td>64</td>\n",
       "      <td>b_39466</td>\n",
       "      <td>118.758897</td>\n",
       "      <td>32.031069</td>\n",
       "      <td>南湖公园</td>\n",
       "      <td>p_8</td>\n",
       "      <td>118.758127</td>\n",
       "      <td>32.030900</td>\n",
       "      <td>87331</td>\n",
       "      <td>0.0</td>\n",
       "    </tr>\n",
       "    <tr>\n",
       "      <th>688568</th>\n",
       "      <td>od_68107</td>\n",
       "      <td>78</td>\n",
       "      <td>66</td>\n",
       "      <td>b_77500</td>\n",
       "      <td>118.757577</td>\n",
       "      <td>32.028748</td>\n",
       "      <td>南湖公园</td>\n",
       "      <td>p_8</td>\n",
       "      <td>118.757111</td>\n",
       "      <td>32.028639</td>\n",
       "      <td>87331</td>\n",
       "      <td>11.0</td>\n",
       "    </tr>\n",
       "    <tr>\n",
       "      <th>...</th>\n",
       "      <td>...</td>\n",
       "      <td>...</td>\n",
       "      <td>...</td>\n",
       "      <td>...</td>\n",
       "      <td>...</td>\n",
       "      <td>...</td>\n",
       "      <td>...</td>\n",
       "      <td>...</td>\n",
       "      <td>...</td>\n",
       "      <td>...</td>\n",
       "      <td>...</td>\n",
       "      <td>...</td>\n",
       "    </tr>\n",
       "    <tr>\n",
       "      <th>1215807</th>\n",
       "      <td>od_120507</td>\n",
       "      <td>8385</td>\n",
       "      <td>7187</td>\n",
       "      <td>b_138375</td>\n",
       "      <td>118.707356</td>\n",
       "      <td>32.047423</td>\n",
       "      <td>南湖公园</td>\n",
       "      <td>p_8</td>\n",
       "      <td>118.757111</td>\n",
       "      <td>32.028639</td>\n",
       "      <td>87331</td>\n",
       "      <td>168.0</td>\n",
       "    </tr>\n",
       "    <tr>\n",
       "      <th>1215909</th>\n",
       "      <td>od_120517</td>\n",
       "      <td>8392</td>\n",
       "      <td>7193</td>\n",
       "      <td>b_138380</td>\n",
       "      <td>118.708348</td>\n",
       "      <td>32.045376</td>\n",
       "      <td>南湖公园</td>\n",
       "      <td>p_8</td>\n",
       "      <td>118.757111</td>\n",
       "      <td>32.028639</td>\n",
       "      <td>87331</td>\n",
       "      <td>168.0</td>\n",
       "    </tr>\n",
       "    <tr>\n",
       "      <th>1215893</th>\n",
       "      <td>od_120515</td>\n",
       "      <td>8400</td>\n",
       "      <td>7200</td>\n",
       "      <td>b_138379</td>\n",
       "      <td>118.707570</td>\n",
       "      <td>32.045694</td>\n",
       "      <td>南湖公园</td>\n",
       "      <td>p_8</td>\n",
       "      <td>118.757111</td>\n",
       "      <td>32.028639</td>\n",
       "      <td>87331</td>\n",
       "      <td>168.0</td>\n",
       "    </tr>\n",
       "    <tr>\n",
       "      <th>1215766</th>\n",
       "      <td>od_120503</td>\n",
       "      <td>8471</td>\n",
       "      <td>7260</td>\n",
       "      <td>b_138373</td>\n",
       "      <td>118.706782</td>\n",
       "      <td>32.046554</td>\n",
       "      <td>南湖公园</td>\n",
       "      <td>p_8</td>\n",
       "      <td>118.757111</td>\n",
       "      <td>32.028639</td>\n",
       "      <td>87331</td>\n",
       "      <td>168.0</td>\n",
       "    </tr>\n",
       "    <tr>\n",
       "      <th>1215746</th>\n",
       "      <td>od_120501</td>\n",
       "      <td>8481</td>\n",
       "      <td>7269</td>\n",
       "      <td>b_138372</td>\n",
       "      <td>118.706450</td>\n",
       "      <td>32.046276</td>\n",
       "      <td>南湖公园</td>\n",
       "      <td>p_8</td>\n",
       "      <td>118.757111</td>\n",
       "      <td>32.028639</td>\n",
       "      <td>87331</td>\n",
       "      <td>168.0</td>\n",
       "    </tr>\n",
       "  </tbody>\n",
       "</table>\n",
       "<p>60339 rows × 12 columns</p>\n",
       "</div>"
      ],
      "text/plain": [
       "             od_id  distance  duration building_id       x_res      y_res  \\\n",
       "288004    od_28419        53        45     b_33740  118.757577  32.028712   \n",
       "688775    od_68131        58        49     b_77512  118.757303  32.028835   \n",
       "688711    od_68124        73        62     b_77509  118.758897  32.031051   \n",
       "329793    od_32686        75        64     b_39466  118.758897  32.031069   \n",
       "688568    od_68107        78        66     b_77500  118.757577  32.028748   \n",
       "...            ...       ...       ...         ...         ...        ...   \n",
       "1215807  od_120507      8385      7187    b_138375  118.707356  32.047423   \n",
       "1215909  od_120517      8392      7193    b_138380  118.708348  32.045376   \n",
       "1215893  od_120515      8400      7200    b_138379  118.707570  32.045694   \n",
       "1215766  od_120503      8471      7260    b_138373  118.706782  32.046554   \n",
       "1215746  od_120501      8481      7269    b_138372  118.706450  32.046276   \n",
       "\n",
       "         name park_id     x_parks    y_parks  park_area  building_pop  \n",
       "288004   南湖公园     p_8  118.757111  32.028639      87331          30.0  \n",
       "688775   南湖公园     p_8  118.757111  32.028639      87331           4.0  \n",
       "688711   南湖公园     p_8  118.758127  32.030900      87331           0.0  \n",
       "329793   南湖公园     p_8  118.758127  32.030900      87331           0.0  \n",
       "688568   南湖公园     p_8  118.757111  32.028639      87331          11.0  \n",
       "...       ...     ...         ...        ...        ...           ...  \n",
       "1215807  南湖公园     p_8  118.757111  32.028639      87331         168.0  \n",
       "1215909  南湖公园     p_8  118.757111  32.028639      87331         168.0  \n",
       "1215893  南湖公园     p_8  118.757111  32.028639      87331         168.0  \n",
       "1215766  南湖公园     p_8  118.757111  32.028639      87331         168.0  \n",
       "1215746  南湖公园     p_8  118.757111  32.028639      87331         168.0  \n",
       "\n",
       "[60339 rows x 12 columns]"
      ]
     },
     "execution_count": 22,
     "metadata": {},
     "output_type": "execute_result"
    }
   ],
   "source": [
    "resx[resx['park_id'] == 'p_8'].sort_values(by='duration')"
   ]
  },
  {
   "cell_type": "code",
   "execution_count": 23,
   "id": "d9e4ffa2-9eb9-4455-b037-94458371f4b8",
   "metadata": {
    "tags": []
   },
   "outputs": [
    {
     "data": {
      "text/html": [
       "<div>\n",
       "<style scoped>\n",
       "    .dataframe tbody tr th:only-of-type {\n",
       "        vertical-align: middle;\n",
       "    }\n",
       "\n",
       "    .dataframe tbody tr th {\n",
       "        vertical-align: top;\n",
       "    }\n",
       "\n",
       "    .dataframe thead th {\n",
       "        text-align: right;\n",
       "    }\n",
       "</style>\n",
       "<table border=\"1\" class=\"dataframe\">\n",
       "  <thead>\n",
       "    <tr style=\"text-align: right;\">\n",
       "      <th></th>\n",
       "      <th>park_id</th>\n",
       "      <th>0</th>\n",
       "    </tr>\n",
       "  </thead>\n",
       "  <tbody>\n",
       "    <tr>\n",
       "      <th>0</th>\n",
       "      <td>p_8</td>\n",
       "      <td>3.089308</td>\n",
       "    </tr>\n",
       "  </tbody>\n",
       "</table>\n",
       "</div>"
      ],
      "text/plain": [
       "  park_id         0\n",
       "0     p_8  3.089308"
      ]
     },
     "execution_count": 23,
     "metadata": {},
     "output_type": "execute_result"
    }
   ],
   "source": [
    "resx[resx['park_id'] == 'p_8'].groupby(by='park_id').apply(get_Rj).reset_index().fillna(0)"
   ]
  },
  {
   "cell_type": "code",
   "execution_count": 24,
   "id": "7f905a30-cbde-4f35-9638-eb780ef9dbab",
   "metadata": {},
   "outputs": [],
   "source": [
    "# res[res['building_id'] == 'b_0'].groupby(by='park_id').apply(get_Rj).reset_index().fillna(0)"
   ]
  },
  {
   "cell_type": "code",
   "execution_count": 25,
   "id": "75a85399-d28c-430d-a930-4390465f3308",
   "metadata": {
    "tags": []
   },
   "outputs": [],
   "source": [
    "park_vk = resx.groupby(by='park_id').apply(get_Rj).reset_index().fillna(0)"
   ]
  },
  {
   "cell_type": "code",
   "execution_count": 26,
   "id": "5c09c1b0-c64f-49be-9262-f6c493cd8dff",
   "metadata": {
    "tags": []
   },
   "outputs": [],
   "source": [
    "# park_vk.sort_values(by=0)"
   ]
  },
  {
   "cell_type": "code",
   "execution_count": 27,
   "id": "777cae4d-e231-4fdf-a4cc-1dbbf9a986c9",
   "metadata": {
    "tags": []
   },
   "outputs": [],
   "source": [
    "park_vk.columns=['park_id','Rj']"
   ]
  },
  {
   "cell_type": "code",
   "execution_count": 28,
   "id": "27cff5ad-e624-4f10-b5e2-7034ae909f77",
   "metadata": {
    "tags": []
   },
   "outputs": [
    {
     "data": {
      "text/html": [
       "<div>\n",
       "<style scoped>\n",
       "    .dataframe tbody tr th:only-of-type {\n",
       "        vertical-align: middle;\n",
       "    }\n",
       "\n",
       "    .dataframe tbody tr th {\n",
       "        vertical-align: top;\n",
       "    }\n",
       "\n",
       "    .dataframe thead th {\n",
       "        text-align: right;\n",
       "    }\n",
       "</style>\n",
       "<table border=\"1\" class=\"dataframe\">\n",
       "  <thead>\n",
       "    <tr style=\"text-align: right;\">\n",
       "      <th></th>\n",
       "      <th>park_id</th>\n",
       "      <th>Rj</th>\n",
       "    </tr>\n",
       "  </thead>\n",
       "  <tbody>\n",
       "    <tr>\n",
       "      <th>0</th>\n",
       "      <td>p_0</td>\n",
       "      <td>6.274865</td>\n",
       "    </tr>\n",
       "    <tr>\n",
       "      <th>1</th>\n",
       "      <td>p_1</td>\n",
       "      <td>2.376337</td>\n",
       "    </tr>\n",
       "    <tr>\n",
       "      <th>2</th>\n",
       "      <td>p_10</td>\n",
       "      <td>75.612003</td>\n",
       "    </tr>\n",
       "    <tr>\n",
       "      <th>3</th>\n",
       "      <td>p_100</td>\n",
       "      <td>59.404823</td>\n",
       "    </tr>\n",
       "    <tr>\n",
       "      <th>4</th>\n",
       "      <td>p_101</td>\n",
       "      <td>145.469963</td>\n",
       "    </tr>\n",
       "  </tbody>\n",
       "</table>\n",
       "</div>"
      ],
      "text/plain": [
       "  park_id          Rj\n",
       "0     p_0    6.274865\n",
       "1     p_1    2.376337\n",
       "2    p_10   75.612003\n",
       "3   p_100   59.404823\n",
       "4   p_101  145.469963"
      ]
     },
     "execution_count": 28,
     "metadata": {},
     "output_type": "execute_result"
    }
   ],
   "source": [
    "park_vk.head()"
   ]
  },
  {
   "cell_type": "code",
   "execution_count": 29,
   "id": "afb9bde5-81b1-47b0-9b2d-fa63810ab0ad",
   "metadata": {
    "tags": []
   },
   "outputs": [
    {
     "data": {
      "text/html": [
       "<div>\n",
       "<style scoped>\n",
       "    .dataframe tbody tr th:only-of-type {\n",
       "        vertical-align: middle;\n",
       "    }\n",
       "\n",
       "    .dataframe tbody tr th {\n",
       "        vertical-align: top;\n",
       "    }\n",
       "\n",
       "    .dataframe thead th {\n",
       "        text-align: right;\n",
       "    }\n",
       "</style>\n",
       "<table border=\"1\" class=\"dataframe\">\n",
       "  <thead>\n",
       "    <tr style=\"text-align: right;\">\n",
       "      <th></th>\n",
       "      <th>park_id</th>\n",
       "      <th>Rj</th>\n",
       "    </tr>\n",
       "  </thead>\n",
       "  <tbody>\n",
       "    <tr>\n",
       "      <th>121</th>\n",
       "      <td>p_98</td>\n",
       "      <td>0.000000</td>\n",
       "    </tr>\n",
       "    <tr>\n",
       "      <th>78</th>\n",
       "      <td>p_44</td>\n",
       "      <td>0.000000</td>\n",
       "    </tr>\n",
       "    <tr>\n",
       "      <th>29</th>\n",
       "      <td>p_125</td>\n",
       "      <td>0.000000</td>\n",
       "    </tr>\n",
       "    <tr>\n",
       "      <th>30</th>\n",
       "      <td>p_126</td>\n",
       "      <td>0.000000</td>\n",
       "    </tr>\n",
       "    <tr>\n",
       "      <th>97</th>\n",
       "      <td>p_61</td>\n",
       "      <td>0.000000</td>\n",
       "    </tr>\n",
       "    <tr>\n",
       "      <th>...</th>\n",
       "      <td>...</td>\n",
       "      <td>...</td>\n",
       "    </tr>\n",
       "    <tr>\n",
       "      <th>8</th>\n",
       "      <td>p_106</td>\n",
       "      <td>5795.975149</td>\n",
       "    </tr>\n",
       "    <tr>\n",
       "      <th>74</th>\n",
       "      <td>p_40</td>\n",
       "      <td>9984.432638</td>\n",
       "    </tr>\n",
       "    <tr>\n",
       "      <th>96</th>\n",
       "      <td>p_60</td>\n",
       "      <td>10475.931125</td>\n",
       "    </tr>\n",
       "    <tr>\n",
       "      <th>92</th>\n",
       "      <td>p_57</td>\n",
       "      <td>18645.215133</td>\n",
       "    </tr>\n",
       "    <tr>\n",
       "      <th>36</th>\n",
       "      <td>p_131</td>\n",
       "      <td>799476.036373</td>\n",
       "    </tr>\n",
       "  </tbody>\n",
       "</table>\n",
       "<p>123 rows × 2 columns</p>\n",
       "</div>"
      ],
      "text/plain": [
       "    park_id             Rj\n",
       "121    p_98       0.000000\n",
       "78     p_44       0.000000\n",
       "29    p_125       0.000000\n",
       "30    p_126       0.000000\n",
       "97     p_61       0.000000\n",
       "..      ...            ...\n",
       "8     p_106    5795.975149\n",
       "74     p_40    9984.432638\n",
       "96     p_60   10475.931125\n",
       "92     p_57   18645.215133\n",
       "36    p_131  799476.036373\n",
       "\n",
       "[123 rows x 2 columns]"
      ]
     },
     "execution_count": 29,
     "metadata": {},
     "output_type": "execute_result"
    }
   ],
   "source": [
    "park_vk.sort_values(by='Rj') # RJ排序"
   ]
  },
  {
   "cell_type": "code",
   "execution_count": 30,
   "id": "97bb563c-4e56-4c17-8ebe-90a215583a03",
   "metadata": {
    "tags": []
   },
   "outputs": [],
   "source": [
    "# park_vk[park_vk['Rj'] > 0]"
   ]
  },
  {
   "cell_type": "code",
   "execution_count": 31,
   "id": "350572e6-927e-4ad2-b8c3-e3d78e4990ac",
   "metadata": {
    "tags": []
   },
   "outputs": [],
   "source": [
    "res2 = resx.copy()"
   ]
  },
  {
   "cell_type": "code",
   "execution_count": 32,
   "id": "4ed662f3-cb92-4c67-b7d1-a6421d5d5c45",
   "metadata": {
    "tags": []
   },
   "outputs": [
    {
     "data": {
      "text/html": [
       "<div>\n",
       "<style scoped>\n",
       "    .dataframe tbody tr th:only-of-type {\n",
       "        vertical-align: middle;\n",
       "    }\n",
       "\n",
       "    .dataframe tbody tr th {\n",
       "        vertical-align: top;\n",
       "    }\n",
       "\n",
       "    .dataframe thead th {\n",
       "        text-align: right;\n",
       "    }\n",
       "</style>\n",
       "<table border=\"1\" class=\"dataframe\">\n",
       "  <thead>\n",
       "    <tr style=\"text-align: right;\">\n",
       "      <th></th>\n",
       "      <th>od_id</th>\n",
       "      <th>distance</th>\n",
       "      <th>duration</th>\n",
       "      <th>building_id</th>\n",
       "      <th>x_res</th>\n",
       "      <th>y_res</th>\n",
       "      <th>name</th>\n",
       "      <th>park_id</th>\n",
       "      <th>x_parks</th>\n",
       "      <th>y_parks</th>\n",
       "      <th>park_area</th>\n",
       "      <th>building_pop</th>\n",
       "    </tr>\n",
       "  </thead>\n",
       "  <tbody>\n",
       "    <tr>\n",
       "      <th>1217521</th>\n",
       "      <td>od_120684</td>\n",
       "      <td>10719</td>\n",
       "      <td>9187</td>\n",
       "      <td>b_0</td>\n",
       "      <td>118.729455</td>\n",
       "      <td>31.994567</td>\n",
       "      <td>青奥森林公园</td>\n",
       "      <td>p_10</td>\n",
       "      <td>118.691604</td>\n",
       "      <td>32.00272</td>\n",
       "      <td>273225</td>\n",
       "      <td>87.0</td>\n",
       "    </tr>\n",
       "  </tbody>\n",
       "</table>\n",
       "</div>"
      ],
      "text/plain": [
       "             od_id  distance  duration building_id       x_res      y_res  \\\n",
       "1217521  od_120684     10719      9187         b_0  118.729455  31.994567   \n",
       "\n",
       "           name park_id     x_parks   y_parks  park_area  building_pop  \n",
       "1217521  青奥森林公园    p_10  118.691604  32.00272     273225          87.0  "
      ]
     },
     "execution_count": 32,
     "metadata": {},
     "output_type": "execute_result"
    }
   ],
   "source": [
    "res2.head(1)"
   ]
  },
  {
   "cell_type": "code",
   "execution_count": 33,
   "id": "0725f430-aaff-4ee4-979b-9daeb2271b09",
   "metadata": {
    "tags": []
   },
   "outputs": [],
   "source": [
    "res2 = res2.merge(park_vk, on='park_id')"
   ]
  },
  {
   "cell_type": "code",
   "execution_count": 34,
   "id": "ee5c5f05-7eb4-4ba8-9075-8a5ff713e6dd",
   "metadata": {
    "tags": []
   },
   "outputs": [
    {
     "data": {
      "text/html": [
       "<div>\n",
       "<style scoped>\n",
       "    .dataframe tbody tr th:only-of-type {\n",
       "        vertical-align: middle;\n",
       "    }\n",
       "\n",
       "    .dataframe tbody tr th {\n",
       "        vertical-align: top;\n",
       "    }\n",
       "\n",
       "    .dataframe thead th {\n",
       "        text-align: right;\n",
       "    }\n",
       "</style>\n",
       "<table border=\"1\" class=\"dataframe\">\n",
       "  <thead>\n",
       "    <tr style=\"text-align: right;\">\n",
       "      <th></th>\n",
       "      <th>od_id</th>\n",
       "      <th>distance</th>\n",
       "      <th>duration</th>\n",
       "      <th>building_id</th>\n",
       "      <th>x_res</th>\n",
       "      <th>y_res</th>\n",
       "      <th>name</th>\n",
       "      <th>park_id</th>\n",
       "      <th>x_parks</th>\n",
       "      <th>y_parks</th>\n",
       "      <th>park_area</th>\n",
       "      <th>building_pop</th>\n",
       "      <th>Rj</th>\n",
       "    </tr>\n",
       "  </thead>\n",
       "  <tbody>\n",
       "    <tr>\n",
       "      <th>0</th>\n",
       "      <td>od_120684</td>\n",
       "      <td>10719</td>\n",
       "      <td>9187</td>\n",
       "      <td>b_0</td>\n",
       "      <td>118.729455</td>\n",
       "      <td>31.994567</td>\n",
       "      <td>青奥森林公园</td>\n",
       "      <td>p_10</td>\n",
       "      <td>118.691604</td>\n",
       "      <td>32.00272</td>\n",
       "      <td>273225</td>\n",
       "      <td>87.0</td>\n",
       "      <td>75.612003</td>\n",
       "    </tr>\n",
       "  </tbody>\n",
       "</table>\n",
       "</div>"
      ],
      "text/plain": [
       "       od_id  distance  duration building_id       x_res      y_res    name  \\\n",
       "0  od_120684     10719      9187         b_0  118.729455  31.994567  青奥森林公园   \n",
       "\n",
       "  park_id     x_parks   y_parks  park_area  building_pop         Rj  \n",
       "0    p_10  118.691604  32.00272     273225          87.0  75.612003  "
      ]
     },
     "execution_count": 34,
     "metadata": {},
     "output_type": "execute_result"
    }
   ],
   "source": [
    "res2.head(1)"
   ]
  },
  {
   "cell_type": "markdown",
   "id": "9a26e9bf-1b0a-42dc-9a12-98a4f870ed6f",
   "metadata": {},
   "source": [
    "## 2SFCA 2 step"
   ]
  },
  {
   "cell_type": "code",
   "execution_count": 35,
   "id": "40e73654-cb5b-4188-8b21-121d4cf3e99c",
   "metadata": {
    "tags": []
   },
   "outputs": [],
   "source": [
    "def get_A(x):\n",
    "    x = x.reset_index()\n",
    "    dt = 0\n",
    "    for i in range(len(x)):\n",
    "        vl = x['Rj'][i] * get_G(x['duration'][i])\n",
    "        dt = dt + vl\n",
    "    return dt"
   ]
  },
  {
   "cell_type": "code",
   "execution_count": 36,
   "id": "f33f028a-2ead-497a-bfc3-8bec41b38eac",
   "metadata": {
    "tags": []
   },
   "outputs": [],
   "source": [
    "res2_vl = res2.groupby(by='building_id').apply(get_A)"
   ]
  },
  {
   "cell_type": "code",
   "execution_count": 37,
   "id": "ea1ef36b-fb7c-43b3-b817-cbc32f89d518",
   "metadata": {
    "tags": []
   },
   "outputs": [
    {
     "data": {
      "text/plain": [
       "building_id\n",
       "b_0         0.000000\n",
       "b_1         1.111760\n",
       "b_10        0.000000\n",
       "b_100      35.572087\n",
       "b_1000      1.491775\n",
       "             ...    \n",
       "b_99995     0.000000\n",
       "b_99996     0.000000\n",
       "b_99997     0.000000\n",
       "b_99998     0.000000\n",
       "b_99999     0.000000\n",
       "Length: 139409, dtype: float64"
      ]
     },
     "execution_count": 37,
     "metadata": {},
     "output_type": "execute_result"
    }
   ],
   "source": [
    "res2_vl"
   ]
  },
  {
   "cell_type": "code",
   "execution_count": 38,
   "id": "21690f9c-189e-4fe7-b988-44cef08fe4ed",
   "metadata": {
    "tags": []
   },
   "outputs": [
    {
     "data": {
      "text/plain": [
       "building_id\n",
       "b_0            0.000000\n",
       "b_45510        0.000000\n",
       "b_45509        0.000000\n",
       "b_45508        0.000000\n",
       "b_45507        0.000000\n",
       "               ...     \n",
       "b_66483    10944.510846\n",
       "b_66481    12484.423182\n",
       "b_66484    13030.588176\n",
       "b_35089    73968.878678\n",
       "b_35090    93046.133172\n",
       "Length: 139409, dtype: float64"
      ]
     },
     "execution_count": 38,
     "metadata": {},
     "output_type": "execute_result"
    }
   ],
   "source": [
    "res2_vl.sort_values()"
   ]
  },
  {
   "cell_type": "code",
   "execution_count": 39,
   "id": "01f2f59d-b8fe-46dc-ba32-f7da81ab7841",
   "metadata": {
    "tags": []
   },
   "outputs": [],
   "source": [
    "res2_vl = res2_vl.reset_index()"
   ]
  },
  {
   "cell_type": "code",
   "execution_count": 40,
   "id": "56b4e27c-b31e-4336-9757-3af85c7b76f8",
   "metadata": {
    "tags": []
   },
   "outputs": [],
   "source": [
    "res2_vl.columns = ['building_id','access_val']"
   ]
  },
  {
   "cell_type": "markdown",
   "id": "31b3d345-e312-40fa-ad7b-13f1dd602f90",
   "metadata": {},
   "source": [
    "# 空间连接"
   ]
  },
  {
   "cell_type": "code",
   "execution_count": 41,
   "id": "2e9e1228-b4c6-478d-808c-811869bebb12",
   "metadata": {
    "tags": []
   },
   "outputs": [],
   "source": [
    "buildings = gpd.read_file('./od_request_data_buildings/buildings_with_id.geojson')"
   ]
  },
  {
   "cell_type": "code",
   "execution_count": 42,
   "id": "b4ceceb3-6b2d-458b-8860-2ee68ca562a2",
   "metadata": {
    "tags": []
   },
   "outputs": [
    {
     "data": {
      "text/html": [
       "<div>\n",
       "<style scoped>\n",
       "    .dataframe tbody tr th:only-of-type {\n",
       "        vertical-align: middle;\n",
       "    }\n",
       "\n",
       "    .dataframe tbody tr th {\n",
       "        vertical-align: top;\n",
       "    }\n",
       "\n",
       "    .dataframe thead th {\n",
       "        text-align: right;\n",
       "    }\n",
       "</style>\n",
       "<table border=\"1\" class=\"dataframe\">\n",
       "  <thead>\n",
       "    <tr style=\"text-align: right;\">\n",
       "      <th></th>\n",
       "      <th>floors</th>\n",
       "      <th>building_id</th>\n",
       "      <th>geometry</th>\n",
       "    </tr>\n",
       "  </thead>\n",
       "  <tbody>\n",
       "    <tr>\n",
       "      <th>0</th>\n",
       "      <td>2.0</td>\n",
       "      <td>b_0</td>\n",
       "      <td>POLYGON ((118.72926 31.99482, 118.72953 31.994...</td>\n",
       "    </tr>\n",
       "  </tbody>\n",
       "</table>\n",
       "</div>"
      ],
      "text/plain": [
       "   floors building_id                                           geometry\n",
       "0     2.0         b_0  POLYGON ((118.72926 31.99482, 118.72953 31.994..."
      ]
     },
     "execution_count": 42,
     "metadata": {},
     "output_type": "execute_result"
    }
   ],
   "source": [
    "buildings.head(1)"
   ]
  },
  {
   "cell_type": "code",
   "execution_count": 43,
   "id": "cee42f49-d318-4a0e-8a23-9d5d2e132e7b",
   "metadata": {
    "tags": []
   },
   "outputs": [],
   "source": [
    "buildings = buildings.merge(res2_vl)"
   ]
  },
  {
   "cell_type": "code",
   "execution_count": 44,
   "id": "0cb51148-7c66-44c6-9214-7ed38328c53a",
   "metadata": {
    "tags": []
   },
   "outputs": [
    {
     "data": {
      "text/html": [
       "<div>\n",
       "<style scoped>\n",
       "    .dataframe tbody tr th:only-of-type {\n",
       "        vertical-align: middle;\n",
       "    }\n",
       "\n",
       "    .dataframe tbody tr th {\n",
       "        vertical-align: top;\n",
       "    }\n",
       "\n",
       "    .dataframe thead th {\n",
       "        text-align: right;\n",
       "    }\n",
       "</style>\n",
       "<table border=\"1\" class=\"dataframe\">\n",
       "  <thead>\n",
       "    <tr style=\"text-align: right;\">\n",
       "      <th></th>\n",
       "      <th>floors</th>\n",
       "      <th>building_id</th>\n",
       "      <th>geometry</th>\n",
       "      <th>access_val</th>\n",
       "    </tr>\n",
       "  </thead>\n",
       "  <tbody>\n",
       "    <tr>\n",
       "      <th>0</th>\n",
       "      <td>2.0</td>\n",
       "      <td>b_0</td>\n",
       "      <td>POLYGON ((118.72926 31.99482, 118.72953 31.994...</td>\n",
       "      <td>0.000000</td>\n",
       "    </tr>\n",
       "    <tr>\n",
       "      <th>1</th>\n",
       "      <td>2.0</td>\n",
       "      <td>b_1</td>\n",
       "      <td>POLYGON ((118.72762 31.99548, 118.72758 31.995...</td>\n",
       "      <td>1.111760</td>\n",
       "    </tr>\n",
       "    <tr>\n",
       "      <th>2</th>\n",
       "      <td>2.0</td>\n",
       "      <td>b_2</td>\n",
       "      <td>POLYGON ((118.72758 31.99552, 118.72762 31.995...</td>\n",
       "      <td>1.233924</td>\n",
       "    </tr>\n",
       "    <tr>\n",
       "      <th>3</th>\n",
       "      <td>2.0</td>\n",
       "      <td>b_3</td>\n",
       "      <td>POLYGON ((118.72744 31.9957, 118.7275 31.99564...</td>\n",
       "      <td>1.339204</td>\n",
       "    </tr>\n",
       "    <tr>\n",
       "      <th>4</th>\n",
       "      <td>2.0</td>\n",
       "      <td>b_4</td>\n",
       "      <td>POLYGON ((118.72751 31.99613, 118.72747 31.996...</td>\n",
       "      <td>1.144405</td>\n",
       "    </tr>\n",
       "    <tr>\n",
       "      <th>...</th>\n",
       "      <td>...</td>\n",
       "      <td>...</td>\n",
       "      <td>...</td>\n",
       "      <td>...</td>\n",
       "    </tr>\n",
       "    <tr>\n",
       "      <th>139404</th>\n",
       "      <td>20.0</td>\n",
       "      <td>b_139986</td>\n",
       "      <td>POLYGON ((118.8248 31.90135, 118.8248 31.90118...</td>\n",
       "      <td>0.000000</td>\n",
       "    </tr>\n",
       "    <tr>\n",
       "      <th>139405</th>\n",
       "      <td>20.0</td>\n",
       "      <td>b_139987</td>\n",
       "      <td>POLYGON ((118.82475 31.90083, 118.82475 31.900...</td>\n",
       "      <td>0.000000</td>\n",
       "    </tr>\n",
       "    <tr>\n",
       "      <th>139406</th>\n",
       "      <td>20.0</td>\n",
       "      <td>b_139988</td>\n",
       "      <td>POLYGON ((118.82389 31.90074, 118.82389 31.900...</td>\n",
       "      <td>0.000000</td>\n",
       "    </tr>\n",
       "    <tr>\n",
       "      <th>139407</th>\n",
       "      <td>20.0</td>\n",
       "      <td>b_139989</td>\n",
       "      <td>POLYGON ((118.82394 31.90022, 118.82394 31.900...</td>\n",
       "      <td>0.000000</td>\n",
       "    </tr>\n",
       "    <tr>\n",
       "      <th>139408</th>\n",
       "      <td>20.0</td>\n",
       "      <td>b_139990</td>\n",
       "      <td>POLYGON ((118.82473 31.90033, 118.82472 31.900...</td>\n",
       "      <td>0.000000</td>\n",
       "    </tr>\n",
       "  </tbody>\n",
       "</table>\n",
       "<p>139409 rows × 4 columns</p>\n",
       "</div>"
      ],
      "text/plain": [
       "        floors building_id                                           geometry  \\\n",
       "0          2.0         b_0  POLYGON ((118.72926 31.99482, 118.72953 31.994...   \n",
       "1          2.0         b_1  POLYGON ((118.72762 31.99548, 118.72758 31.995...   \n",
       "2          2.0         b_2  POLYGON ((118.72758 31.99552, 118.72762 31.995...   \n",
       "3          2.0         b_3  POLYGON ((118.72744 31.9957, 118.7275 31.99564...   \n",
       "4          2.0         b_4  POLYGON ((118.72751 31.99613, 118.72747 31.996...   \n",
       "...        ...         ...                                                ...   \n",
       "139404    20.0    b_139986  POLYGON ((118.8248 31.90135, 118.8248 31.90118...   \n",
       "139405    20.0    b_139987  POLYGON ((118.82475 31.90083, 118.82475 31.900...   \n",
       "139406    20.0    b_139988  POLYGON ((118.82389 31.90074, 118.82389 31.900...   \n",
       "139407    20.0    b_139989  POLYGON ((118.82394 31.90022, 118.82394 31.900...   \n",
       "139408    20.0    b_139990  POLYGON ((118.82473 31.90033, 118.82472 31.900...   \n",
       "\n",
       "        access_val  \n",
       "0         0.000000  \n",
       "1         1.111760  \n",
       "2         1.233924  \n",
       "3         1.339204  \n",
       "4         1.144405  \n",
       "...            ...  \n",
       "139404    0.000000  \n",
       "139405    0.000000  \n",
       "139406    0.000000  \n",
       "139407    0.000000  \n",
       "139408    0.000000  \n",
       "\n",
       "[139409 rows x 4 columns]"
      ]
     },
     "execution_count": 44,
     "metadata": {},
     "output_type": "execute_result"
    }
   ],
   "source": [
    "buildings"
   ]
  },
  {
   "cell_type": "code",
   "execution_count": 45,
   "id": "15554625-3d5e-40e4-93db-233f6b721982",
   "metadata": {
    "tags": []
   },
   "outputs": [
    {
     "data": {
      "text/html": [
       "<div>\n",
       "<style scoped>\n",
       "    .dataframe tbody tr th:only-of-type {\n",
       "        vertical-align: middle;\n",
       "    }\n",
       "\n",
       "    .dataframe tbody tr th {\n",
       "        vertical-align: top;\n",
       "    }\n",
       "\n",
       "    .dataframe thead th {\n",
       "        text-align: right;\n",
       "    }\n",
       "</style>\n",
       "<table border=\"1\" class=\"dataframe\">\n",
       "  <thead>\n",
       "    <tr style=\"text-align: right;\">\n",
       "      <th></th>\n",
       "      <th>floors</th>\n",
       "      <th>building_id</th>\n",
       "      <th>geometry</th>\n",
       "      <th>access_val</th>\n",
       "    </tr>\n",
       "  </thead>\n",
       "  <tbody>\n",
       "    <tr>\n",
       "      <th>0</th>\n",
       "      <td>2.0</td>\n",
       "      <td>b_0</td>\n",
       "      <td>POLYGON ((118.72926 31.99482, 118.72953 31.994...</td>\n",
       "      <td>0.000000</td>\n",
       "    </tr>\n",
       "    <tr>\n",
       "      <th>80091</th>\n",
       "      <td>8.0</td>\n",
       "      <td>b_80412</td>\n",
       "      <td>POLYGON ((118.80169 31.9999, 118.80171 31.9999...</td>\n",
       "      <td>0.000000</td>\n",
       "    </tr>\n",
       "    <tr>\n",
       "      <th>80090</th>\n",
       "      <td>8.0</td>\n",
       "      <td>b_80411</td>\n",
       "      <td>POLYGON ((118.80144 31.99983, 118.80145 31.999...</td>\n",
       "      <td>0.000000</td>\n",
       "    </tr>\n",
       "    <tr>\n",
       "      <th>80089</th>\n",
       "      <td>8.0</td>\n",
       "      <td>b_80410</td>\n",
       "      <td>POLYGON ((118.80154 31.99987, 118.80156 31.999...</td>\n",
       "      <td>0.000000</td>\n",
       "    </tr>\n",
       "    <tr>\n",
       "      <th>80088</th>\n",
       "      <td>6.0</td>\n",
       "      <td>b_80409</td>\n",
       "      <td>POLYGON ((118.80298 32.00064, 118.80316 32.000...</td>\n",
       "      <td>0.000000</td>\n",
       "    </tr>\n",
       "    <tr>\n",
       "      <th>...</th>\n",
       "      <td>...</td>\n",
       "      <td>...</td>\n",
       "      <td>...</td>\n",
       "      <td>...</td>\n",
       "    </tr>\n",
       "    <tr>\n",
       "      <th>66216</th>\n",
       "      <td>8.0</td>\n",
       "      <td>b_66483</td>\n",
       "      <td>POLYGON ((119.04868 32.06242, 119.0487 32.0623...</td>\n",
       "      <td>10944.510846</td>\n",
       "    </tr>\n",
       "    <tr>\n",
       "      <th>66214</th>\n",
       "      <td>2.0</td>\n",
       "      <td>b_66481</td>\n",
       "      <td>POLYGON ((119.04855 32.0623, 119.04862 32.0619...</td>\n",
       "      <td>12484.423182</td>\n",
       "    </tr>\n",
       "    <tr>\n",
       "      <th>66217</th>\n",
       "      <td>8.0</td>\n",
       "      <td>b_66484</td>\n",
       "      <td>POLYGON ((119.04862 32.06195, 119.04882 32.061...</td>\n",
       "      <td>13030.588176</td>\n",
       "    </tr>\n",
       "    <tr>\n",
       "      <th>34893</th>\n",
       "      <td>2.0</td>\n",
       "      <td>b_35089</td>\n",
       "      <td>POLYGON ((118.80883 32.05991, 118.80888 32.059...</td>\n",
       "      <td>73968.878678</td>\n",
       "    </tr>\n",
       "    <tr>\n",
       "      <th>34894</th>\n",
       "      <td>2.0</td>\n",
       "      <td>b_35090</td>\n",
       "      <td>POLYGON ((118.80903 32.05992, 118.80907 32.059...</td>\n",
       "      <td>93046.133172</td>\n",
       "    </tr>\n",
       "  </tbody>\n",
       "</table>\n",
       "<p>139409 rows × 4 columns</p>\n",
       "</div>"
      ],
      "text/plain": [
       "       floors building_id                                           geometry  \\\n",
       "0         2.0         b_0  POLYGON ((118.72926 31.99482, 118.72953 31.994...   \n",
       "80091     8.0     b_80412  POLYGON ((118.80169 31.9999, 118.80171 31.9999...   \n",
       "80090     8.0     b_80411  POLYGON ((118.80144 31.99983, 118.80145 31.999...   \n",
       "80089     8.0     b_80410  POLYGON ((118.80154 31.99987, 118.80156 31.999...   \n",
       "80088     6.0     b_80409  POLYGON ((118.80298 32.00064, 118.80316 32.000...   \n",
       "...       ...         ...                                                ...   \n",
       "66216     8.0     b_66483  POLYGON ((119.04868 32.06242, 119.0487 32.0623...   \n",
       "66214     2.0     b_66481  POLYGON ((119.04855 32.0623, 119.04862 32.0619...   \n",
       "66217     8.0     b_66484  POLYGON ((119.04862 32.06195, 119.04882 32.061...   \n",
       "34893     2.0     b_35089  POLYGON ((118.80883 32.05991, 118.80888 32.059...   \n",
       "34894     2.0     b_35090  POLYGON ((118.80903 32.05992, 118.80907 32.059...   \n",
       "\n",
       "         access_val  \n",
       "0          0.000000  \n",
       "80091      0.000000  \n",
       "80090      0.000000  \n",
       "80089      0.000000  \n",
       "80088      0.000000  \n",
       "...             ...  \n",
       "66216  10944.510846  \n",
       "66214  12484.423182  \n",
       "66217  13030.588176  \n",
       "34893  73968.878678  \n",
       "34894  93046.133172  \n",
       "\n",
       "[139409 rows x 4 columns]"
      ]
     },
     "execution_count": 45,
     "metadata": {},
     "output_type": "execute_result"
    }
   ],
   "source": [
    "buildings.sort_values(by='access_val')"
   ]
  },
  {
   "cell_type": "code",
   "execution_count": 46,
   "id": "26955136-396e-4b67-80e2-6eeb74f76957",
   "metadata": {
    "tags": []
   },
   "outputs": [],
   "source": [
    "buildings.to_file(f'./data_access_geojson/{file_name}_{time_threshold}.geojson')"
   ]
  },
  {
   "cell_type": "code",
   "execution_count": null,
   "id": "eead98a9-2e9d-4074-919a-ccae43ed8e45",
   "metadata": {},
   "outputs": [],
   "source": []
  }
 ],
 "metadata": {
  "kernelspec": {
   "display_name": "Python 3 (ipykernel)",
   "language": "python",
   "name": "python3"
  },
  "language_info": {
   "codemirror_mode": {
    "name": "ipython",
    "version": 3
   },
   "file_extension": ".py",
   "mimetype": "text/x-python",
   "name": "python",
   "nbconvert_exporter": "python",
   "pygments_lexer": "ipython3",
   "version": "3.11.5"
  },
  "toc-autonumbering": true
 },
 "nbformat": 4,
 "nbformat_minor": 5
}
